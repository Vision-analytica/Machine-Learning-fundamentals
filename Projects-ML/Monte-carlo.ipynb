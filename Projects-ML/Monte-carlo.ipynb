{
 "cells": [
  {
   "attachments": {},
   "cell_type": "markdown",
   "metadata": {},
   "source": [
    "# Monte Carlo Simulation: History, How it Works, and 4 Key Steps\n",
    "\n",
    "Monte Carlo simulation is a computational technique used to model and analyze complex systems or processes by generating random samples and simulating their outcomes. It is particularly useful in situations where there is uncertainty and variability involved.\n",
    "\n",
    "### Simulation Process\n",
    "Here's an overview of the Monte Carlo simulation process:\n",
    "\n",
    "- **Define the Problem:** Clearly define the problem or system you want to model. Identify the variables and parameters that have an impact on the outcomes of interest.\n",
    "\n",
    "- **Define Probability Distributions:** Assign probability distributions to the variables that exhibit uncertainty. These distributions can be based on historical data, expert judgment, or assumptions.\n",
    "\n",
    "- **Generate Random Samples:** Randomly generate values for the variables based on their assigned distributions. The number of samples should be large enough to obtain reliable results.\n",
    "\n",
    "- **Perform Simulations:** For each set of random values generated, simulate the system or process and calculate the desired outputs or outcomes. This involves using mathematical models, equations, or algorithms that describe the behavior of the system.\n",
    "\n",
    "- **Collect Results:** Store the results obtained from each simulation run, such as performance measures, metrics, or output variables of interest.\n",
    "\n",
    "- **Analyze Results:** Analyze the collected results to gain insights into the behavior and characteristics of the system. This can involve statistical analysis, data visualization, or other techniques to summarize and interpret the simulation outcomes.\n",
    "\n",
    "- **Draw Conclusions:** Draw conclusions based on the analysis of the simulation results. Assess the reliability and robustness of the conclusions by considering the variability and uncertainty inherent in the simulation process.\n",
    "\n",
    "### Application\n",
    "\n",
    "Monte Carlo simulation can be applied in various fields, including \n",
    "- finance, \n",
    "- engineering, \n",
    "- risk analysis, \n",
    "- optimization, and \n",
    "- decision-making. \n",
    "\n",
    "It allows for the exploration of different scenarios and the assessment of the likelihood and impact of different outcomes.\n",
    "\n",
    "By repeatedly simulating the system with random inputs, Monte Carlo simulation provides a probabilistic understanding of the system's behavior and can help decision-makers make more informed choices, evaluate risks, and assess the potential impact of different strategies or interventions.\n",
    "### Python libraries important for the simulation\n",
    "\n",
    "Python provides libraries such as \n",
    "- NumPy and \n",
    "- SciPy \n",
    "  \n",
    "that offer functions for generating random numbers, statistical analysis, and mathematical modeling, making it a popular programming language for implementing Monte Carlo simulations."
   ]
  },
  {
   "attachments": {},
   "cell_type": "markdown",
   "metadata": {},
   "source": [
    "## Monte Carlo Simulation in Finance\n",
    "\n",
    "Monte Carlo simulation is widely used in finance for various purposes, for example:\n",
    "\n",
    "- **Risk Analysis:** Monte Carlo simulation is used to assess and quantify financial risk. By simulating various market scenarios and generating multiple outcomes, it helps estimate the potential range of portfolio returns or losses. It allows analysts to evaluate the likelihood of different risk levels, such as Value-at-Risk (VaR) or Expected Shortfall (ES), and understand the distribution of possible outcomes.\n",
    "\n",
    "- **Portfolio Optimization:** Monte Carlo simulation can be used to optimize investment portfolios by considering various asset allocation strategies. By simulating the performance of different portfolio compositions and rebalancing methods, it helps investors determine the optimal allocation that maximizes returns while managing risk within specified constraints.\n",
    "\n",
    "- **Option Pricing:** Monte Carlo simulation is employed in option pricing models, such as the Black-Scholes model, to estimate the value of options and other derivative securities. By simulating the underlying asset price paths, it helps calculate the probability distribution of option payoffs and determine fair prices for options.\n",
    "\n",
    "- **Credit Risk Assessment:** Monte Carlo simulation is used to assess credit risk by simulating the potential outcomes of loans or credit portfolios. It helps estimate the probability of default, loss given default, and other credit-related metrics. By incorporating factors such as default correlations, recovery rates, and macroeconomic variables, it enables the modeling of credit portfolio risks and the calculation of credit value adjustments (CVAs).\n",
    "\n",
    "- **Financial Forecasting and Scenario Analysis:** Monte Carlo simulation is employed in financial modeling to generate forecasts and assess the impact of different scenarios on financial performance. It allows analysts to incorporate uncertainty and variability in key inputs such as sales growth rates, interest rates, or exchange rates. By simulating multiple scenarios, it provides insights into the range of possible outcomes and helps inform decision-making.\n",
    "\n",
    "- **Stress Testing:** Monte Carlo simulation is utilized in stress testing exercises to assess the resilience of financial institutions or portfolios under extreme market conditions. It helps evaluate the impact of severe shocks on capital adequacy, liquidity, and other risk metrics. By simulating a wide range of adverse scenarios, it assists in identifying vulnerabilities and designing risk mitigation strategies."
   ]
  },
  {
   "attachments": {},
   "cell_type": "markdown",
   "metadata": {},
   "source": [
    "#### Covariance matrix:\n",
    "\n",
    "- The covariance matrix, is a square matrix that represents the covariance between multiple variables. \n",
    "- In the context of finance, it is commonly used to analyze the relationships between the returns of different assets in a portfolio. \n",
    "- The formula to calculate the covariance between two variables, X and Y, is as follows:\n",
    "\n",
    "    $Cov(X, Y) = E[(X - \\mu_X) * (Y - \\mu_Y)]$\n",
    "\n",
    "    where:\n",
    "\n",
    "    - $Cov(X, Y)$ is the covariance between variables X and Y.\n",
    "    - $E[ ]$ denotes the expectation or average value.\n",
    "    - $X$ and $Y$ are random variables or data series.\n",
    "    - $\\mu_X$ and $\\mu_Y$ are the means (or expected values) of X and Y, respectively.\n",
    "\n",
    "- The covariance matrix is formed by calculating the covariances between all pairs of variables in a dataset. \n",
    "- For a dataset with $n$ variables, the covariance matrix $\\Sigma$ will be an $n \\times n$ matrix, where each element $\\Sigma_{i,j}$ represents the covariance between the ith and jth variables.\n",
    "- The general formula to calculate the covariance matrix is:\n",
    "\n",
    "\\[\n",
    "\\begin{bmatrix}\n",
    "Cov(X_1, X_1) & Cov(X_1, X_2) & \\ldots & Cov(X_1, X_n) \\\\\n",
    "Cov(X_2, X_1) & Cov(X_2, X_2) & \\ldots & Cov(X_2, X_n) \\\\\n",
    "\\vdots & \\vdots & \\ddots & \\vdots \\\\\n",
    "Cov(X_n, X_1) & Cov(X_n, X_2) & \\ldots & Cov(X_n, X_n)\n",
    "\\end{bmatrix}\n",
    "\\]\n",
    "\n",
    "\n",
    "where: $Cov(X_i, X_j)$ represents the covariance between the ith and jth variables.\n",
    "\n",
    "- In Python, we can use the `.cov()` function from the NumPy or pandas library to compute the covariance matrix from a given dataset.\n",
    "\n",
    "- `covMatrix = returns.cov()`: This line calculates the covariance matrix of the returns using the `cov()` method of the returns DataFrame. The covariance matrix provides insights into the relationship between the returns of different stocks and is used in portfolio optimization."
   ]
  },
  {
   "attachments": {},
   "cell_type": "markdown",
   "metadata": {},
   "source": [
    "#### Expected portfolio return:\n",
    "\n",
    "- The expected portfolio return is a measure of the anticipated average return that an investor can expect from a portfolio of investments. It takes into account the weights assigned to each asset in the portfolio and their respective expected returns.\n",
    "- We can calculate it in two ways. \n",
    "  - **First way:**\n",
    "\n",
    "    $\\text{Expected Portfolio Return} = \\sum_i (\\text{Expected Return}_i \\times \\text{Weight}_i)$\n",
    "\n",
    "    where:\n",
    "\n",
    "    - Expected Portfolio Return represents the weighted average of the expected returns of individual assets in the portfolio.\n",
    "    - Expected Return_i represents the expected return of asset i.\n",
    "    - Weight_i represents the weight assigned to asset i in the portfolio.\n",
    "\n",
    "    This formula calculates the expected return of a portfolio by summing the products of the expected return of each asset (Expected Return_i) and its corresponding weight (Weight_i) in the portfolio. It assumes that the expected returns provided for each asset are directly representative of the future performance of the assets.\n",
    "\n",
    "  - **Second way:**\n",
    "    \n",
    "    $\\text{Expected Portfolio Return} = \\sum_i (\\text{Mean Return}_i \\times \\text{Weight}_i)\\times \\text{time}$\n",
    "\n",
    "      - This formula calculates the expected return of a portfolio by summing the products of the mean return of each asset (Mean Return_i) and its corresponding weight (Weight_i) in the portfolio. \n",
    "      - However, it also takes into account the time period (Time) for which the expected return is calculated. \n",
    "      - By multiplying the sum of the weighted mean returns by the time period, it provides an estimate of the expected return over the specified time frame.\n",
    "\n",
    "- The expected portfolio return provides an estimate of the average return that an investor can expect from their portfolio based on the anticipated performance of the individual assets and their respective weightings. It is a key metric used in portfolio analysis and decision-making."
   ]
  },
  {
   "attachments": {},
   "cell_type": "markdown",
   "metadata": {},
   "source": [
    "#### 1. Var & CVaR calculation"
   ]
  },
  {
   "cell_type": "code",
   "execution_count": 96,
   "metadata": {},
   "outputs": [
    {
     "name": "stdout",
     "output_type": "stream",
     "text": [
      "\n",
      "\u001b[1m[\u001b[0m\u001b[34;49mnotice\u001b[0m\u001b[1;39;49m]\u001b[0m\u001b[39;49m A new release of pip is available: \u001b[0m\u001b[31;49m23.0.1\u001b[0m\u001b[39;49m -> \u001b[0m\u001b[32;49m23.1.2\u001b[0m\n",
      "\u001b[1m[\u001b[0m\u001b[34;49mnotice\u001b[0m\u001b[1;39;49m]\u001b[0m\u001b[39;49m To update, run: \u001b[0m\u001b[32;49mpython3.11 -m pip install --upgrade pip\u001b[0m\n",
      "Note: you may need to restart the kernel to use updated packages.\n"
     ]
    }
   ],
   "source": [
    "%pip install pandas_datareader -q"
   ]
  },
  {
   "attachments": {},
   "cell_type": "markdown",
   "metadata": {},
   "source": [
    "### Standard deviation and Voltality\n",
    "\n",
    "- The formula to calculate the standard deviation of a portfolio is as follows:\n",
    "\n",
    "    $\\text{std} = \\sqrt{\\text{Transpose}(w) \\times \\Sigma  \\times w} \\times \\sqrt(t)$\n",
    "\n",
    "    where:\n",
    "\n",
    "    - std represents the standard deviation of the portfolio.\n",
    "    - $w$ is a vector of weights assigned to each asset in the portfolio.\n",
    "    - $\\Sigma$ is the covariance matrix of asset returns.\n",
    "    - T is the time period over which the portfolio returns are calculated.\n",
    "\n",
    "\n",
    "\n",
    "- standard deviation is defined as:\n",
    "\n",
    "    $\\boxed{\\text{Volatility} = \\sqrt{\\text{Variance}} = \\sqrt{t} \\times \\text{Standard deviation}}$\n",
    "\n",
    "    here 252 is for number days of trading in a year t =252\n",
    "\n",
    "- **Example:**\n",
    "\n",
    "    Suppose we have a portfolio with three assets, and we want to calculate the standard deviation of the portfolio. We have the following information:\n",
    "\n",
    "    Weights:    w = [0.4, 0.3, 0.3]\n",
    "\n",
    "    Covariance Matrix:\n",
    "        Σ = [[0.04, 0.03, 0.02],\n",
    "        [0.03, 0.09, 0.05],\n",
    "        [0.02, 0.05, 0.16]]\n",
    "\n",
    "    To calculate the standard deviation, we can use the formula:\n",
    "\n",
    "    σ = sqrt( w^T * Σ * w )\n",
    "\n",
    "    First, let's calculate w^T * Σ:\n",
    "\n",
    "    w^T * Σ = [0.4, 0.3, 0.3] * [[0.04, 0.03, 0.02],\n",
    "                                [0.03, 0.09, 0.05],\n",
    "                                [0.02, 0.05, 0.16]]\n",
    "                                \n",
    "        = [0.4*0.04 + 0.3*0.03 + 0.3*0.02, 0.4*0.03 + 0.3*0.09 + 0.3*0.05, 0.4*0.02 + 0.3*0.05 + 0.3*0.16]\n",
    "\n",
    "        = [0.033, 0.048, 0.041]\n",
    "\n",
    "    w^T * Σ * w = [0.033, 0.048, 0.041] * [0.4, 0.3, 0.3] = 0.0176\n",
    "\n",
    "    Therefore\n",
    "\n",
    "    σ = sqrt(0.0176) = 0.1326\n",
    "\n",
    "    So, the standard deviation of the portfolio in this example is approximately 0.1326. This represents the measure of risk or volatility associated with the portfolio based on the given weights and covariance matrix."
   ]
  },
  {
   "attachments": {},
   "cell_type": "markdown",
   "metadata": {},
   "source": [
    "##### 1. Portfolio performance analysis"
   ]
  },
  {
   "attachments": {},
   "cell_type": "markdown",
   "metadata": {},
   "source": [
    "**Step-1:** Importing Libraries\n",
    "\n",
    "Import the required libraries in your Python script:"
   ]
  },
  {
   "cell_type": "code",
   "execution_count": 97,
   "metadata": {},
   "outputs": [],
   "source": [
    "# Import Libraries (Import the required libraries in your Python script)\n",
    "import pandas as pd\n",
    "import numpy as np\n",
    "import datetime as dt\n",
    "from pandas_datareader import data as pdr\n",
    "import yfinance as yf"
   ]
  },
  {
   "attachments": {},
   "cell_type": "markdown",
   "metadata": {},
   "source": [
    "**Step-2:** Define Function to Get Stock Data\n",
    "\n",
    "Define a function that retrieves stock data from Yahoo Finance for a given list of symbols, start date, and end date:"
   ]
  },
  {
   "cell_type": "code",
   "execution_count": 98,
   "metadata": {},
   "outputs": [],
   "source": [
    "def getData(stocks, start, end):\n",
    "    stockData = pdr.get_data_yahoo([stock + '.AX' for stock in stocks], start=start, end=end)\n",
    "    stockData = stockData['Close']\n",
    "    returns = stockData.pct_change()\n",
    "    meanReturns = returns.mean()\n",
    "    covMatrix = returns.cov()\n",
    "    return returns, meanReturns, covMatrix"
   ]
  },
  {
   "attachments": {},
   "cell_type": "markdown",
   "metadata": {},
   "source": [
    "Portfolio performace"
   ]
  },
  {
   "cell_type": "code",
   "execution_count": 99,
   "metadata": {},
   "outputs": [],
   "source": [
    "def portfolioPerformance(weights, meanReturns, covMatrix, Time):\n",
    "    portfolioReturn = np.sum(meanReturns * weights) * Time\n",
    "    portfolioStd = np.sqrt(np.dot(weights.T, np.dot(covMatrix, weights))) * np.sqrt(Time)\n",
    "    return portfolioReturn, portfolioStd"
   ]
  },
  {
   "attachments": {},
   "cell_type": "markdown",
   "metadata": {},
   "source": [
    "**Step 3:** Specify Stock Symbols and Date Range\n",
    "\n",
    "Specify the stock symbols and the desired date range for which you want to retrieve the data:"
   ]
  },
  {
   "cell_type": "code",
   "execution_count": 100,
   "metadata": {},
   "outputs": [],
   "source": [
    "stocklist = ['CBA', 'BHP', 'TLS', 'NAB', 'WBC', 'STO']\n",
    "endDate = dt.datetime.now()\n",
    "startDate = endDate - dt.timedelta(days=800)"
   ]
  },
  {
   "attachments": {},
   "cell_type": "markdown",
   "metadata": {},
   "source": [
    "**Step 4:** Retrieve Stock Data\n",
    "\n",
    "Call the get_stock_data function to retrieve the stock data for the specified symbols and date range:"
   ]
  },
  {
   "cell_type": "code",
   "execution_count": 101,
   "metadata": {},
   "outputs": [
    {
     "name": "stdout",
     "output_type": "stream",
     "text": [
      "[*********************100%***********************]  6 of 6 completed\n"
     ]
    }
   ],
   "source": [
    "returns, meanReturns, covMatrix = getData(stocklist, start=startDate, end=endDate)"
   ]
  },
  {
   "attachments": {},
   "cell_type": "markdown",
   "metadata": {},
   "source": [
    "**Step 5:** Call the getData function to retrieve the stock data:"
   ]
  },
  {
   "cell_type": "code",
   "execution_count": 102,
   "metadata": {},
   "outputs": [
    {
     "name": "stdout",
     "output_type": "stream",
     "text": [
      "[*********************100%***********************]  6 of 6 completed\n"
     ]
    }
   ],
   "source": [
    "returns, meanReturns, covMatrix = getData(stocklist, start=startDate, end=endDate)"
   ]
  },
  {
   "attachments": {},
   "cell_type": "markdown",
   "metadata": {},
   "source": [
    "**Step 6:** Drop any rows with missing values (NaN) from the returns dataframe:"
   ]
  },
  {
   "cell_type": "code",
   "execution_count": 103,
   "metadata": {},
   "outputs": [],
   "source": [
    "returns = returns.dropna()"
   ]
  },
  {
   "attachments": {},
   "cell_type": "markdown",
   "metadata": {},
   "source": [
    "**Step 6:** Define the weights for the portfolio:"
   ]
  },
  {
   "cell_type": "code",
   "execution_count": 104,
   "metadata": {},
   "outputs": [],
   "source": [
    "weights = np.array([0.2, 0.2, 0.2, 0.2, 0.1, 0.1])  # Example weights, adjust as needed"
   ]
  },
  {
   "attachments": {},
   "cell_type": "markdown",
   "metadata": {},
   "source": [
    "Define the investment time period:"
   ]
  },
  {
   "cell_type": "code",
   "execution_count": 105,
   "metadata": {},
   "outputs": [],
   "source": [
    "Time = 1  # Example time period, adjust as needed"
   ]
  },
  {
   "attachments": {},
   "cell_type": "markdown",
   "metadata": {},
   "source": [
    "**Step 7:** Calculate the portfolio performance:"
   ]
  },
  {
   "cell_type": "code",
   "execution_count": 106,
   "metadata": {},
   "outputs": [],
   "source": [
    "portfolioReturn, portfolioStd = portfolioPerformance(weights, meanReturns, covMatrix, Time)"
   ]
  },
  {
   "cell_type": "code",
   "execution_count": 107,
   "metadata": {},
   "outputs": [
    {
     "name": "stdout",
     "output_type": "stream",
     "text": [
      "Portfolio Return: 0.00019367905657957467\n",
      "Portfolio Standard Deviation: 0.010025495525433834\n"
     ]
    }
   ],
   "source": [
    "print(\"Portfolio Return:\", portfolioReturn)\n",
    "print(\"Portfolio Standard Deviation:\", portfolioStd)"
   ]
  },
  {
   "cell_type": "code",
   "execution_count": 108,
   "metadata": {},
   "outputs": [
    {
     "data": {
      "text/html": [
       "<div>\n",
       "<style scoped>\n",
       "    .dataframe tbody tr th:only-of-type {\n",
       "        vertical-align: middle;\n",
       "    }\n",
       "\n",
       "    .dataframe tbody tr th {\n",
       "        vertical-align: top;\n",
       "    }\n",
       "\n",
       "    .dataframe thead th {\n",
       "        text-align: right;\n",
       "    }\n",
       "</style>\n",
       "<table border=\"1\" class=\"dataframe\">\n",
       "  <thead>\n",
       "    <tr style=\"text-align: right;\">\n",
       "      <th></th>\n",
       "      <th>BHP.AX</th>\n",
       "      <th>CBA.AX</th>\n",
       "      <th>NAB.AX</th>\n",
       "      <th>STO.AX</th>\n",
       "      <th>TLS.AX</th>\n",
       "      <th>WBC.AX</th>\n",
       "    </tr>\n",
       "    <tr>\n",
       "      <th>Date</th>\n",
       "      <th></th>\n",
       "      <th></th>\n",
       "      <th></th>\n",
       "      <th></th>\n",
       "      <th></th>\n",
       "      <th></th>\n",
       "    </tr>\n",
       "  </thead>\n",
       "  <tbody>\n",
       "    <tr>\n",
       "      <th>2021-04-27</th>\n",
       "      <td>0.011288</td>\n",
       "      <td>0.003144</td>\n",
       "      <td>-0.001875</td>\n",
       "      <td>0.007257</td>\n",
       "      <td>0.000000</td>\n",
       "      <td>-0.003589</td>\n",
       "    </tr>\n",
       "    <tr>\n",
       "      <th>2021-04-28</th>\n",
       "      <td>-0.003307</td>\n",
       "      <td>0.009851</td>\n",
       "      <td>0.011274</td>\n",
       "      <td>0.011527</td>\n",
       "      <td>0.005917</td>\n",
       "      <td>0.012405</td>\n",
       "    </tr>\n",
       "    <tr>\n",
       "      <th>2021-04-29</th>\n",
       "      <td>0.009125</td>\n",
       "      <td>-0.002328</td>\n",
       "      <td>-0.005203</td>\n",
       "      <td>0.004274</td>\n",
       "      <td>-0.002941</td>\n",
       "      <td>-0.004348</td>\n",
       "    </tr>\n",
       "    <tr>\n",
       "      <th>2021-04-30</th>\n",
       "      <td>-0.019729</td>\n",
       "      <td>-0.010667</td>\n",
       "      <td>-0.004109</td>\n",
       "      <td>-0.009929</td>\n",
       "      <td>0.000000</td>\n",
       "      <td>-0.008337</td>\n",
       "    </tr>\n",
       "    <tr>\n",
       "      <th>2021-05-03</th>\n",
       "      <td>-0.014046</td>\n",
       "      <td>0.007412</td>\n",
       "      <td>0.021380</td>\n",
       "      <td>-0.022923</td>\n",
       "      <td>0.029498</td>\n",
       "      <td>0.050040</td>\n",
       "    </tr>\n",
       "  </tbody>\n",
       "</table>\n",
       "</div>"
      ],
      "text/plain": [
       "              BHP.AX    CBA.AX    NAB.AX    STO.AX    TLS.AX    WBC.AX\n",
       "Date                                                                  \n",
       "2021-04-27  0.011288  0.003144 -0.001875  0.007257  0.000000 -0.003589\n",
       "2021-04-28 -0.003307  0.009851  0.011274  0.011527  0.005917  0.012405\n",
       "2021-04-29  0.009125 -0.002328 -0.005203  0.004274 -0.002941 -0.004348\n",
       "2021-04-30 -0.019729 -0.010667 -0.004109 -0.009929  0.000000 -0.008337\n",
       "2021-05-03 -0.014046  0.007412  0.021380 -0.022923  0.029498  0.050040"
      ]
     },
     "execution_count": 108,
     "metadata": {},
     "output_type": "execute_result"
    }
   ],
   "source": [
    "returns.head()"
   ]
  },
  {
   "attachments": {},
   "cell_type": "markdown",
   "metadata": {},
   "source": [
    "Now adding daily Portfolio returns to this table, using following formula:\n",
    "\n",
    "\n",
    "Portfolio Returns = Returns of Asset 1 * Weight of Asset 1 + Returns of Asset 2 * Weight of Asset 2 + ... + Returns of Asset N * Weight of Asset N"
   ]
  },
  {
   "cell_type": "code",
   "execution_count": 109,
   "metadata": {},
   "outputs": [],
   "source": [
    "returns['Portfolio'] = returns.dot(weights)"
   ]
  },
  {
   "cell_type": "code",
   "execution_count": 110,
   "metadata": {},
   "outputs": [
    {
     "data": {
      "text/html": [
       "<div>\n",
       "<style scoped>\n",
       "    .dataframe tbody tr th:only-of-type {\n",
       "        vertical-align: middle;\n",
       "    }\n",
       "\n",
       "    .dataframe tbody tr th {\n",
       "        vertical-align: top;\n",
       "    }\n",
       "\n",
       "    .dataframe thead th {\n",
       "        text-align: right;\n",
       "    }\n",
       "</style>\n",
       "<table border=\"1\" class=\"dataframe\">\n",
       "  <thead>\n",
       "    <tr style=\"text-align: right;\">\n",
       "      <th></th>\n",
       "      <th>BHP.AX</th>\n",
       "      <th>CBA.AX</th>\n",
       "      <th>NAB.AX</th>\n",
       "      <th>STO.AX</th>\n",
       "      <th>TLS.AX</th>\n",
       "      <th>WBC.AX</th>\n",
       "      <th>Portfolio</th>\n",
       "    </tr>\n",
       "    <tr>\n",
       "      <th>Date</th>\n",
       "      <th></th>\n",
       "      <th></th>\n",
       "      <th></th>\n",
       "      <th></th>\n",
       "      <th></th>\n",
       "      <th></th>\n",
       "      <th></th>\n",
       "    </tr>\n",
       "  </thead>\n",
       "  <tbody>\n",
       "    <tr>\n",
       "      <th>2021-04-27</th>\n",
       "      <td>0.011288</td>\n",
       "      <td>0.003144</td>\n",
       "      <td>-0.001875</td>\n",
       "      <td>0.007257</td>\n",
       "      <td>0.000000</td>\n",
       "      <td>-0.003589</td>\n",
       "      <td>0.003604</td>\n",
       "    </tr>\n",
       "    <tr>\n",
       "      <th>2021-04-28</th>\n",
       "      <td>-0.003307</td>\n",
       "      <td>0.009851</td>\n",
       "      <td>0.011274</td>\n",
       "      <td>0.011527</td>\n",
       "      <td>0.005917</td>\n",
       "      <td>0.012405</td>\n",
       "      <td>0.007701</td>\n",
       "    </tr>\n",
       "    <tr>\n",
       "      <th>2021-04-29</th>\n",
       "      <td>0.009125</td>\n",
       "      <td>-0.002328</td>\n",
       "      <td>-0.005203</td>\n",
       "      <td>0.004274</td>\n",
       "      <td>-0.002941</td>\n",
       "      <td>-0.004348</td>\n",
       "      <td>0.000445</td>\n",
       "    </tr>\n",
       "    <tr>\n",
       "      <th>2021-04-30</th>\n",
       "      <td>-0.019729</td>\n",
       "      <td>-0.010667</td>\n",
       "      <td>-0.004109</td>\n",
       "      <td>-0.009929</td>\n",
       "      <td>0.000000</td>\n",
       "      <td>-0.008337</td>\n",
       "      <td>-0.009720</td>\n",
       "    </tr>\n",
       "    <tr>\n",
       "      <th>2021-05-03</th>\n",
       "      <td>-0.014046</td>\n",
       "      <td>0.007412</td>\n",
       "      <td>0.021380</td>\n",
       "      <td>-0.022923</td>\n",
       "      <td>0.029498</td>\n",
       "      <td>0.050040</td>\n",
       "      <td>0.006319</td>\n",
       "    </tr>\n",
       "  </tbody>\n",
       "</table>\n",
       "</div>"
      ],
      "text/plain": [
       "              BHP.AX    CBA.AX    NAB.AX    STO.AX    TLS.AX    WBC.AX  \\\n",
       "Date                                                                     \n",
       "2021-04-27  0.011288  0.003144 -0.001875  0.007257  0.000000 -0.003589   \n",
       "2021-04-28 -0.003307  0.009851  0.011274  0.011527  0.005917  0.012405   \n",
       "2021-04-29  0.009125 -0.002328 -0.005203  0.004274 -0.002941 -0.004348   \n",
       "2021-04-30 -0.019729 -0.010667 -0.004109 -0.009929  0.000000 -0.008337   \n",
       "2021-05-03 -0.014046  0.007412  0.021380 -0.022923  0.029498  0.050040   \n",
       "\n",
       "            Portfolio  \n",
       "Date                   \n",
       "2021-04-27   0.003604  \n",
       "2021-04-28   0.007701  \n",
       "2021-04-29   0.000445  \n",
       "2021-04-30  -0.009720  \n",
       "2021-05-03   0.006319  "
      ]
     },
     "execution_count": 110,
     "metadata": {},
     "output_type": "execute_result"
    }
   ],
   "source": [
    "returns.head()"
   ]
  },
  {
   "cell_type": "code",
   "execution_count": 126,
   "metadata": {},
   "outputs": [
    {
     "data": {
      "text/plain": [
       "0.01876149947761131"
      ]
     },
     "execution_count": 126,
     "metadata": {},
     "output_type": "execute_result"
    }
   ],
   "source": [
    "confidence_level = 0.05  # 95% confidence level\n",
    "portfolio_returns_sorted = returns.sort_values(by='Portfolio')\n",
    "index = int(confidence_level * len(portfolio_returns_sorted))\n",
    "var_hist = -portfolio_returns_sorted['Portfolio'].iloc[index]\n",
    "var_hist"
   ]
  },
  {
   "attachments": {},
   "cell_type": "markdown",
   "metadata": {},
   "source": [
    "**Historical VaR:**\n",
    "\n",
    "Sort the portfolio returns (returns['portfolio']) in ascending order.\n",
    "Determine the confidence level (confidence_level) at which you want to calculate VaR.\n",
    "Find the index position (index) that corresponds to the confidence level.\n",
    "Calculate the Historical VaR using the formula: historical_var = -returns['portfolio'].iloc[index] * portfolio_value\n",
    "Here's an example code snippet for calculating Historical VaR:"
   ]
  },
  {
   "cell_type": "code",
   "execution_count": 130,
   "metadata": {},
   "outputs": [
    {
     "name": "stdout",
     "output_type": "stream",
     "text": [
      "Historical VaR for CBA: -17323.148009365184\n",
      "Historical VaR for BHP: -31142.545220670392\n",
      "Historical VaR for TLS: -15706.853991273694\n",
      "Historical VaR for NAB: -17199.009303429546\n",
      "Historical VaR for WBC: -17590.860364499862\n",
      "Historical VaR for STO: -29247.916875725587\n"
     ]
    }
   ],
   "source": [
    "# Historical VaR for each stock in the portfolio\n",
    "\n",
    "confidence_level = 0.95  # 95% confidence level\n",
    "portfolio_value = 1000000  # Example portfolio value\n",
    "\n",
    "# Iterate over each stock in the portfolio\n",
    "for stock in stocklist:\n",
    "    stock_returns_sorted = returns[stock + '.AX'].sort_values()\n",
    "    index = int(confidence_level * len(stock_returns_sorted))\n",
    "    historical_var = -stock_returns_sorted.iloc[index] * portfolio_value\n",
    "    print(f\"Historical VaR for {stock}: {historical_var}\")"
   ]
  },
  {
   "attachments": {},
   "cell_type": "markdown",
   "metadata": {},
   "source": [
    "**Conditional Value at Risk (CVaR)**, also known as Expected Shortfall (ES), is a risk measure that represents the expected loss beyond a certain confidence level. It provides information about the average magnitude of losses that exceed the Value at Risk (VaR) estimate.\n",
    "\n",
    "To calculate the Conditional VaR, you can follow these steps:\n",
    "\n",
    "Set the confidence level (e.g., 95%).\n",
    "Calculate the VaR at the specified confidence level.\n",
    "Determine the subset of returns that fall below the VaR.\n",
    "Calculate the average of the returns in the subset obtained in step 3. This represents the Conditional VaR.\n",
    "Here's an example of how you can calculate Conditional VaR for a portfolio:"
   ]
  },
  {
   "cell_type": "code",
   "execution_count": 131,
   "metadata": {},
   "outputs": [
    {
     "name": "stdout",
     "output_type": "stream",
     "text": [
      "Conditional VaR at 0.95: 0.0008342916336958865\n"
     ]
    }
   ],
   "source": [
    "confidence_level = 0.95  # 95% confidence level\n",
    "\n",
    "# Calculate the VaR at the specified confidence level\n",
    "portfolio_returns_sorted = returns['Portfolio'].sort_values()\n",
    "index = int(confidence_level * len(portfolio_returns_sorted))\n",
    "var = -portfolio_returns_sorted[index]\n",
    "\n",
    "# Determine the subset of returns that fall below the VaR\n",
    "subset_returns = portfolio_returns_sorted[:index]\n",
    "\n",
    "# Calculate the Conditional VaR (average of the returns in the subset)\n",
    "cvar = -np.mean(subset_returns)\n",
    "\n",
    "print(f\"Conditional VaR at {confidence_level}: {cvar}\")\n"
   ]
  },
  {
   "attachments": {},
   "cell_type": "markdown",
   "metadata": {},
   "source": []
  },
  {
   "attachments": {},
   "cell_type": "markdown",
   "metadata": {},
   "source": []
  },
  {
   "attachments": {},
   "cell_type": "markdown",
   "metadata": {},
   "source": []
  },
  {
   "attachments": {},
   "cell_type": "markdown",
   "metadata": {},
   "source": []
  },
  {
   "attachments": {},
   "cell_type": "markdown",
   "metadata": {},
   "source": []
  },
  {
   "attachments": {},
   "cell_type": "markdown",
   "metadata": {},
   "source": [
    "### Risk analysis\n",
    "\n",
    "Monte Carlo simulation is extensively used in _risk analysis_ to quantify and analyze various types of risks in finance. Here's how it is applied in risk analysis:\n",
    "\n",
    "| Application |           Used for        |            Factors used or used for           |\n",
    "|-------------|---------------------------|-----------------------------------------------|\n",
    "| Assessing portfolio risk | to know risk and volatility of investment protfolios | VaR, ES, CVaR |\n",
    "|Scenario Analysis | to know the future sceanrios and hence impact on future outcomes | market conditions, interest rates, exchange rates, or macroeconomic variables |\n",
    "| Stress Testing | to evaluate the resilience of financial institutions or portfolios under adverse conditions | vulnerabilities, evaluate worst-case scenarios, and design risk mitigation strategies |\n",
    "| Risk Mitigation Strategies | helps in evaluating and comparing different risk mitigation strategies | diversification, hedging, or asset allocation adjustments |\n",
    "| Credit Risk Analysis | to estimate credit-related metrics such as Probability of Default (PD), Loss Given Default (LGD), or Credit Value-at-Risk (CVaR) |  it helps assess the credit risk of individual loans or credit portfolios by considering default correlations, recovery rates, or credit rating migrations |\n",
    "\n",
    "Above table can be explained in more details as:\n",
    "\n",
    "- **Assessing Portfolio Risk:** Monte Carlo simulation is used to estimate the potential risk and volatility of investment portfolios. By simulating thousands or millions of potential market scenarios, it generates a distribution of portfolio returns. This allows risk analysts to calculate risk metrics such as Value-at-Risk (VaR), Expected Shortfall (ES), or Conditional Value-at-Risk (CVaR) at different confidence levels. These metrics provide insights into the potential downside risk and help investors make informed decisions regarding portfolio diversification, risk tolerance, and hedging strategies.\n",
    "\n",
    "- **Scenario Analysis:** Monte Carlo simulation enables risk analysts to perform scenario analysis by simulating a range of possible _future scenarios_ and evaluating their impact on financial outcomes. This involves considering multiple factors such as market conditions, interest rates, exchange rates, or macroeconomic variables. By incorporating these variables into the simulation, analysts can assess the potential effects of different scenarios on key performance indicators, cash flows, or profitability measures.\n",
    "\n",
    "- **Stress Testing:** Monte Carlo simulation is used in stress testing exercises to evaluate the resilience of financial institutions or portfolios under adverse conditions. It involves simulating extreme scenarios, such as market crashes, economic recessions, or liquidity shocks, to assess the impact on risk exposures, capital adequacy, or liquidity positions. By stress testing using Monte Carlo simulation, risk analysts can identify vulnerabilities, evaluate worst-case scenarios, and design risk mitigation strategies.\n",
    "\n",
    "- **Risk Mitigation Strategies:** Monte Carlo simulation helps in evaluating and comparing different risk mitigation strategies. By simulating the effectiveness of various risk management techniques, such as diversification, hedging, or asset allocation adjustments, it enables risk analysts to quantify the potential impact of these strategies on risk reduction. This allows decision-makers to make informed choices and implement risk mitigation measures based on the simulation results.\n",
    "\n",
    "- **Credit Risk Analysis:** Monte Carlo simulation is employed in credit risk analysis to estimate credit-related metrics such as Probability of Default (PD), Loss Given Default (LGD), or Credit Value-at-Risk (CVaR). By simulating potential default scenarios and incorporating factors such as default correlations, recovery rates, or credit rating migrations, it helps assess the credit risk of individual loans or credit portfolios. This information is crucial for credit risk management, loan pricing, and the calculation of regulatory capital requirements."
   ]
  }
 ],
 "metadata": {
  "kernelspec": {
   "display_name": "Python 3",
   "language": "python",
   "name": "python3"
  },
  "language_info": {
   "codemirror_mode": {
    "name": "ipython",
    "version": 3
   },
   "file_extension": ".py",
   "mimetype": "text/x-python",
   "name": "python",
   "nbconvert_exporter": "python",
   "pygments_lexer": "ipython3",
   "version": "3.11.3"
  },
  "orig_nbformat": 4
 },
 "nbformat": 4,
 "nbformat_minor": 2
}
