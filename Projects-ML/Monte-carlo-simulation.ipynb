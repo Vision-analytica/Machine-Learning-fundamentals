{
 "cells": [
  {
   "attachments": {},
   "cell_type": "markdown",
   "metadata": {},
   "source": [
    "# Monte Carlo Simulation: History, How it Works, and 4 Key Steps\n",
    "\n",
    "Monte Carlo simulation is a computational technique used to model and analyze complex systems or processes by generating random samples and simulating their outcomes. It is particularly useful in situations where there is uncertainty and variability involved.\n",
    "\n",
    "### Simulation Process\n",
    "Here's an overview of the Monte Carlo simulation process:\n",
    "\n",
    "- **Define the Problem:** Clearly define the problem or system you want to model. Identify the variables and parameters that have an impact on the outcomes of interest.\n",
    "\n",
    "- **Define Probability Distributions:** Assign probability distributions to the variables that exhibit uncertainty. These distributions can be based on historical data, expert judgment, or assumptions.\n",
    "\n",
    "- **Generate Random Samples:** Randomly generate values for the variables based on their assigned distributions. The number of samples should be large enough to obtain reliable results.\n",
    "\n",
    "- **Perform Simulations:** For each set of random values generated, simulate the system or process and calculate the desired outputs or outcomes. This involves using mathematical models, equations, or algorithms that describe the behavior of the system.\n",
    "\n",
    "- **Collect Results:** Store the results obtained from each simulation run, such as performance measures, metrics, or output variables of interest.\n",
    "\n",
    "- **Analyze Results:** Analyze the collected results to gain insights into the behavior and characteristics of the system. This can involve statistical analysis, data visualization, or other techniques to summarize and interpret the simulation outcomes.\n",
    "\n",
    "- **Draw Conclusions:** Draw conclusions based on the analysis of the simulation results. Assess the reliability and robustness of the conclusions by considering the variability and uncertainty inherent in the simulation process.\n",
    "\n",
    "### Application\n",
    "\n",
    "Monte Carlo simulation can be applied in various fields, including \n",
    "- finance, \n",
    "- engineering, \n",
    "- risk analysis, \n",
    "- optimization, and \n",
    "- decision-making. \n",
    "\n",
    "It allows for the exploration of different scenarios and the assessment of the likelihood and impact of different outcomes.\n",
    "\n",
    "By repeatedly simulating the system with random inputs, Monte Carlo simulation provides a probabilistic understanding of the system's behavior and can help decision-makers make more informed choices, evaluate risks, and assess the potential impact of different strategies or interventions.\n",
    "### Python libraries important for the simulation\n",
    "\n",
    "Python provides libraries such as \n",
    "- NumPy and \n",
    "- SciPy \n",
    "  \n",
    "that offer functions for generating random numbers, statistical analysis, and mathematical modeling, making it a popular programming language for implementing Monte Carlo simulations."
   ]
  },
  {
   "attachments": {},
   "cell_type": "markdown",
   "metadata": {},
   "source": [
    "## Monte Carlo Simulation in Finance\n",
    "\n",
    "Monte Carlo simulation is widely used in finance for various purposes, for example:\n",
    "\n",
    "- **Risk Analysis:** Monte Carlo simulation is used to assess and quantify financial risk. By simulating various market scenarios and generating multiple outcomes, it helps estimate the potential range of portfolio returns or losses. It allows analysts to evaluate the likelihood of different risk levels, such as Value-at-Risk (VaR) or Expected Shortfall (ES), and understand the distribution of possible outcomes.\n",
    "\n",
    "- **Portfolio Optimization:** Monte Carlo simulation can be used to optimize investment portfolios by considering various asset allocation strategies. By simulating the performance of different portfolio compositions and rebalancing methods, it helps investors determine the optimal allocation that maximizes returns while managing risk within specified constraints.\n",
    "\n",
    "- **Option Pricing:** Monte Carlo simulation is employed in option pricing models, such as the Black-Scholes model, to estimate the value of options and other derivative securities. By simulating the underlying asset price paths, it helps calculate the probability distribution of option payoffs and determine fair prices for options.\n",
    "\n",
    "- **Credit Risk Assessment:** Monte Carlo simulation is used to assess credit risk by simulating the potential outcomes of loans or credit portfolios. It helps estimate the probability of default, loss given default, and other credit-related metrics. By incorporating factors such as default correlations, recovery rates, and macroeconomic variables, it enables the modeling of credit portfolio risks and the calculation of credit value adjustments (CVAs).\n",
    "\n",
    "- **Financial Forecasting and Scenario Analysis:** Monte Carlo simulation is employed in financial modeling to generate forecasts and assess the impact of different scenarios on financial performance. It allows analysts to incorporate uncertainty and variability in key inputs such as sales growth rates, interest rates, or exchange rates. By simulating multiple scenarios, it provides insights into the range of possible outcomes and helps inform decision-making.\n",
    "\n",
    "- **Stress Testing:** Monte Carlo simulation is utilized in stress testing exercises to assess the resilience of financial institutions or portfolios under extreme market conditions. It helps evaluate the impact of severe shocks on capital adequacy, liquidity, and other risk metrics. By simulating a wide range of adverse scenarios, it assists in identifying vulnerabilities and designing risk mitigation strategies."
   ]
  },
  {
   "attachments": {},
   "cell_type": "markdown",
   "metadata": {},
   "source": [
    "### Application to Risk analysis\n",
    "\n",
    "Monte Carlo simulation is extensively used in _risk analysis_ to quantify and analyze various types of risks in finance. Here's how it is applied in risk analysis:\n",
    "\n",
    "| Application |           Used for        |            Factors used or used for           |\n",
    "|-------------|---------------------------|-----------------------------------------------|\n",
    "| Assessing portfolio risk | to know risk and volatility of investment protfolios | VaR, ES, CVaR |\n",
    "|Scenario Analysis | to know the future sceanrios and hence impact on future outcomes | market conditions, interest rates, exchange rates, or macroeconomic variables |\n",
    "| Stress Testing | to evaluate the resilience of financial institutions or portfolios under adverse conditions | vulnerabilities, evaluate worst-case scenarios, and design risk mitigation strategies |\n",
    "| Risk Mitigation Strategies | helps in evaluating and comparing different risk mitigation strategies | diversification, hedging, or asset allocation adjustments |\n",
    "| Credit Risk Analysis | to estimate credit-related metrics such as Probability of Default (PD), Loss Given Default (LGD), or Credit Value-at-Risk (CVaR) |  it helps assess the credit risk of individual loans or credit portfolios by considering default correlations, recovery rates, or credit rating migrations |\n",
    "\n",
    "\n",
    "- **Assessing Portfolio Risk:** Monte Carlo simulation is used to estimate the potential risk and volatility of investment portfolios. By simulating thousands or millions of potential market scenarios, it generates a distribution of portfolio returns. This allows risk analysts to calculate risk metrics such as Value-at-Risk (VaR), Expected Shortfall (ES), or Conditional Value-at-Risk (CVaR) at different confidence levels. These metrics provide insights into the potential downside risk and help investors make informed decisions regarding portfolio diversification, risk tolerance, and hedging strategies.\n",
    "\n",
    "- **Scenario Analysis:** Monte Carlo simulation enables risk analysts to perform scenario analysis by simulating a range of possible _future scenarios_ and evaluating their impact on financial outcomes. This involves considering multiple factors such as market conditions, interest rates, exchange rates, or macroeconomic variables. By incorporating these variables into the simulation, analysts can assess the potential effects of different scenarios on key performance indicators, cash flows, or profitability measures.\n",
    "\n",
    "- **Stress Testing:** Monte Carlo simulation is used in stress testing exercises to evaluate the resilience of financial institutions or portfolios under adverse conditions. It involves simulating extreme scenarios, such as market crashes, economic recessions, or liquidity shocks, to assess the impact on risk exposures, capital adequacy, or liquidity positions. By stress testing using Monte Carlo simulation, risk analysts can identify vulnerabilities, evaluate worst-case scenarios, and design risk mitigation strategies.\n",
    "\n",
    "- **Risk Mitigation Strategies:** Monte Carlo simulation helps in evaluating and comparing different risk mitigation strategies. By simulating the effectiveness of various risk management techniques, such as diversification, hedging, or asset allocation adjustments, it enables risk analysts to quantify the potential impact of these strategies on risk reduction. This allows decision-makers to make informed choices and implement risk mitigation measures based on the simulation results.\n",
    "\n",
    "- **Credit Risk Analysis:** Monte Carlo simulation is employed in credit risk analysis to estimate credit-related metrics such as Probability of Default (PD), Loss Given Default (LGD), or Credit Value-at-Risk (CVaR). By simulating potential default scenarios and incorporating factors such as default correlations, recovery rates, or credit rating migrations, it helps assess the credit risk of individual loans or credit portfolios. This information is crucial for credit risk management, loan pricing, and the calculation of regulatory capital requirements."
   ]
  },
  {
   "attachments": {},
   "cell_type": "markdown",
   "metadata": {},
   "source": [
    "**Example: -1** Portfolio Risk for my investment in Adani Transmission share price "
   ]
  },
  {
   "cell_type": "code",
   "execution_count": 30,
   "metadata": {},
   "outputs": [
    {
     "name": "stdout",
     "output_type": "stream",
     "text": [
      "\n",
      "\u001b[1m[\u001b[0m\u001b[34;49mnotice\u001b[0m\u001b[1;39;49m]\u001b[0m\u001b[39;49m A new release of pip is available: \u001b[0m\u001b[31;49m23.0.1\u001b[0m\u001b[39;49m -> \u001b[0m\u001b[32;49m23.1.2\u001b[0m\n",
      "\u001b[1m[\u001b[0m\u001b[34;49mnotice\u001b[0m\u001b[1;39;49m]\u001b[0m\u001b[39;49m To update, run: \u001b[0m\u001b[32;49mpython3.11 -m pip install --upgrade pip\u001b[0m\n",
      "Note: you may need to restart the kernel to use updated packages.\n"
     ]
    }
   ],
   "source": [
    "# installing yfinance\n",
    "%pip install yfinance -q"
   ]
  },
  {
   "cell_type": "code",
   "execution_count": 31,
   "metadata": {},
   "outputs": [],
   "source": [
    "# importing important libraries\n",
    "import pandas as pd\n",
    "import numpy as np\n",
    "import yfinance as yf\n",
    "import matplotlib.pyplot as plt\n",
    "import seaborn as sns"
   ]
  },
  {
   "cell_type": "code",
   "execution_count": 32,
   "metadata": {},
   "outputs": [
    {
     "name": "stdout",
     "output_type": "stream",
     "text": [
      "[*********************100%***********************]  1 of 1 completed\n"
     ]
    },
    {
     "data": {
      "text/html": [
       "<div>\n",
       "<style scoped>\n",
       "    .dataframe tbody tr th:only-of-type {\n",
       "        vertical-align: middle;\n",
       "    }\n",
       "\n",
       "    .dataframe tbody tr th {\n",
       "        vertical-align: top;\n",
       "    }\n",
       "\n",
       "    .dataframe thead th {\n",
       "        text-align: right;\n",
       "    }\n",
       "</style>\n",
       "<table border=\"1\" class=\"dataframe\">\n",
       "  <thead>\n",
       "    <tr style=\"text-align: right;\">\n",
       "      <th></th>\n",
       "      <th>Open</th>\n",
       "      <th>High</th>\n",
       "      <th>Low</th>\n",
       "      <th>Close</th>\n",
       "      <th>Adj Close</th>\n",
       "      <th>Volume</th>\n",
       "    </tr>\n",
       "    <tr>\n",
       "      <th>Date</th>\n",
       "      <th></th>\n",
       "      <th></th>\n",
       "      <th></th>\n",
       "      <th></th>\n",
       "      <th></th>\n",
       "      <th></th>\n",
       "    </tr>\n",
       "  </thead>\n",
       "  <tbody>\n",
       "    <tr>\n",
       "      <th>2022-01-03</th>\n",
       "      <td>1735.000000</td>\n",
       "      <td>1755.0</td>\n",
       "      <td>1710.000000</td>\n",
       "      <td>1731.099976</td>\n",
       "      <td>1731.099976</td>\n",
       "      <td>32602</td>\n",
       "    </tr>\n",
       "    <tr>\n",
       "      <th>2022-01-04</th>\n",
       "      <td>1731.099976</td>\n",
       "      <td>1775.0</td>\n",
       "      <td>1700.000000</td>\n",
       "      <td>1754.949951</td>\n",
       "      <td>1754.949951</td>\n",
       "      <td>42498</td>\n",
       "    </tr>\n",
       "    <tr>\n",
       "      <th>2022-01-05</th>\n",
       "      <td>1706.099976</td>\n",
       "      <td>1780.5</td>\n",
       "      <td>1706.099976</td>\n",
       "      <td>1761.050049</td>\n",
       "      <td>1761.050049</td>\n",
       "      <td>54105</td>\n",
       "    </tr>\n",
       "    <tr>\n",
       "      <th>2022-01-06</th>\n",
       "      <td>1730.000000</td>\n",
       "      <td>1770.0</td>\n",
       "      <td>1710.000000</td>\n",
       "      <td>1760.050049</td>\n",
       "      <td>1760.050049</td>\n",
       "      <td>51023</td>\n",
       "    </tr>\n",
       "    <tr>\n",
       "      <th>2022-01-07</th>\n",
       "      <td>1740.099976</td>\n",
       "      <td>1780.0</td>\n",
       "      <td>1721.849976</td>\n",
       "      <td>1776.000000</td>\n",
       "      <td>1776.000000</td>\n",
       "      <td>64894</td>\n",
       "    </tr>\n",
       "  </tbody>\n",
       "</table>\n",
       "</div>"
      ],
      "text/plain": [
       "                   Open    High          Low        Close    Adj Close  Volume\n",
       "Date                                                                          \n",
       "2022-01-03  1735.000000  1755.0  1710.000000  1731.099976  1731.099976   32602\n",
       "2022-01-04  1731.099976  1775.0  1700.000000  1754.949951  1754.949951   42498\n",
       "2022-01-05  1706.099976  1780.5  1706.099976  1761.050049  1761.050049   54105\n",
       "2022-01-06  1730.000000  1770.0  1710.000000  1760.050049  1760.050049   51023\n",
       "2022-01-07  1740.099976  1780.0  1721.849976  1776.000000  1776.000000   64894"
      ]
     },
     "execution_count": 32,
     "metadata": {},
     "output_type": "execute_result"
    }
   ],
   "source": [
    "# Get historical price data for Adani Transmission\n",
    "\n",
    "ticker = 'ADANITRANS.NS'  # Ticker symbol for Adani Transmission\n",
    "start_date = '2022-01-01'  # Start date for the historical data\n",
    "end_date = '2023-04-30'  # End date for the historical data\n",
    "\n",
    "adani_df = yf.download(ticker, start=start_date, end=end_date)\n",
    "adani_df.head()"
   ]
  },
  {
   "cell_type": "code",
   "execution_count": 33,
   "metadata": {},
   "outputs": [
    {
     "data": {
      "text/plain": [
       "Open         float64\n",
       "High         float64\n",
       "Low          float64\n",
       "Close        float64\n",
       "Adj Close    float64\n",
       "Volume         int64\n",
       "dtype: object"
      ]
     },
     "execution_count": 33,
     "metadata": {},
     "output_type": "execute_result"
    }
   ],
   "source": [
    "adani_df.dtypes"
   ]
  },
  {
   "cell_type": "code",
   "execution_count": 34,
   "metadata": {},
   "outputs": [
    {
     "data": {
      "text/plain": [
       "Index(['Open', 'High', 'Low', 'Close', 'Adj Close', 'Volume'], dtype='object')"
      ]
     },
     "execution_count": 34,
     "metadata": {},
     "output_type": "execute_result"
    }
   ],
   "source": [
    "adani_df.columns"
   ]
  },
  {
   "cell_type": "code",
   "execution_count": 35,
   "metadata": {},
   "outputs": [
    {
     "data": {
      "text/plain": [
       "Open         0\n",
       "High         0\n",
       "Low          0\n",
       "Close        0\n",
       "Adj Close    0\n",
       "Volume       0\n",
       "dtype: int64"
      ]
     },
     "execution_count": 35,
     "metadata": {},
     "output_type": "execute_result"
    }
   ],
   "source": [
    "# checking missing values i.e. NaN values\n",
    "adani_df.isnull().sum()"
   ]
  },
  {
   "cell_type": "code",
   "execution_count": 36,
   "metadata": {},
   "outputs": [
    {
     "data": {
      "text/plain": [
       "(327, 6)"
      ]
     },
     "execution_count": 36,
     "metadata": {},
     "output_type": "execute_result"
    }
   ],
   "source": [
    "# shape of the dataframe\n",
    "adani_df.shape"
   ]
  },
  {
   "cell_type": "code",
   "execution_count": 37,
   "metadata": {},
   "outputs": [
    {
     "data": {
      "text/html": [
       "<div>\n",
       "<style scoped>\n",
       "    .dataframe tbody tr th:only-of-type {\n",
       "        vertical-align: middle;\n",
       "    }\n",
       "\n",
       "    .dataframe tbody tr th {\n",
       "        vertical-align: top;\n",
       "    }\n",
       "\n",
       "    .dataframe thead th {\n",
       "        text-align: right;\n",
       "    }\n",
       "</style>\n",
       "<table border=\"1\" class=\"dataframe\">\n",
       "  <thead>\n",
       "    <tr style=\"text-align: right;\">\n",
       "      <th></th>\n",
       "      <th>Open</th>\n",
       "      <th>High</th>\n",
       "      <th>Low</th>\n",
       "      <th>Close</th>\n",
       "      <th>Adj Close</th>\n",
       "      <th>Volume</th>\n",
       "    </tr>\n",
       "  </thead>\n",
       "  <tbody>\n",
       "    <tr>\n",
       "      <th>count</th>\n",
       "      <td>327.000000</td>\n",
       "      <td>327.000000</td>\n",
       "      <td>327.000000</td>\n",
       "      <td>327.000000</td>\n",
       "      <td>327.000000</td>\n",
       "      <td>3.270000e+02</td>\n",
       "    </tr>\n",
       "    <tr>\n",
       "      <th>mean</th>\n",
       "      <td>2402.030275</td>\n",
       "      <td>2456.439752</td>\n",
       "      <td>2339.146184</td>\n",
       "      <td>2397.370334</td>\n",
       "      <td>2397.370334</td>\n",
       "      <td>6.421608e+05</td>\n",
       "    </tr>\n",
       "    <tr>\n",
       "      <th>std</th>\n",
       "      <td>858.588234</td>\n",
       "      <td>873.262823</td>\n",
       "      <td>837.562902</td>\n",
       "      <td>854.741647</td>\n",
       "      <td>854.741647</td>\n",
       "      <td>7.021228e+05</td>\n",
       "    </tr>\n",
       "    <tr>\n",
       "      <th>min</th>\n",
       "      <td>631.500000</td>\n",
       "      <td>674.400024</td>\n",
       "      <td>631.500000</td>\n",
       "      <td>642.900024</td>\n",
       "      <td>642.900024</td>\n",
       "      <td>3.088600e+04</td>\n",
       "    </tr>\n",
       "    <tr>\n",
       "      <th>25%</th>\n",
       "      <td>1992.500000</td>\n",
       "      <td>2039.500000</td>\n",
       "      <td>1934.575012</td>\n",
       "      <td>1989.674988</td>\n",
       "      <td>1989.674988</td>\n",
       "      <td>2.684495e+05</td>\n",
       "    </tr>\n",
       "    <tr>\n",
       "      <th>50%</th>\n",
       "      <td>2468.000000</td>\n",
       "      <td>2515.000000</td>\n",
       "      <td>2401.949951</td>\n",
       "      <td>2453.500000</td>\n",
       "      <td>2453.500000</td>\n",
       "      <td>4.412000e+05</td>\n",
       "    </tr>\n",
       "    <tr>\n",
       "      <th>75%</th>\n",
       "      <td>2991.775024</td>\n",
       "      <td>3022.000000</td>\n",
       "      <td>2944.349976</td>\n",
       "      <td>2987.125000</td>\n",
       "      <td>2987.125000</td>\n",
       "      <td>7.467140e+05</td>\n",
       "    </tr>\n",
       "    <tr>\n",
       "      <th>max</th>\n",
       "      <td>4165.000000</td>\n",
       "      <td>4236.750000</td>\n",
       "      <td>3991.100098</td>\n",
       "      <td>4105.399902</td>\n",
       "      <td>4105.399902</td>\n",
       "      <td>5.208061e+06</td>\n",
       "    </tr>\n",
       "  </tbody>\n",
       "</table>\n",
       "</div>"
      ],
      "text/plain": [
       "              Open         High          Low        Close    Adj Close  \\\n",
       "count   327.000000   327.000000   327.000000   327.000000   327.000000   \n",
       "mean   2402.030275  2456.439752  2339.146184  2397.370334  2397.370334   \n",
       "std     858.588234   873.262823   837.562902   854.741647   854.741647   \n",
       "min     631.500000   674.400024   631.500000   642.900024   642.900024   \n",
       "25%    1992.500000  2039.500000  1934.575012  1989.674988  1989.674988   \n",
       "50%    2468.000000  2515.000000  2401.949951  2453.500000  2453.500000   \n",
       "75%    2991.775024  3022.000000  2944.349976  2987.125000  2987.125000   \n",
       "max    4165.000000  4236.750000  3991.100098  4105.399902  4105.399902   \n",
       "\n",
       "             Volume  \n",
       "count  3.270000e+02  \n",
       "mean   6.421608e+05  \n",
       "std    7.021228e+05  \n",
       "min    3.088600e+04  \n",
       "25%    2.684495e+05  \n",
       "50%    4.412000e+05  \n",
       "75%    7.467140e+05  \n",
       "max    5.208061e+06  "
      ]
     },
     "execution_count": 37,
     "metadata": {},
     "output_type": "execute_result"
    }
   ],
   "source": [
    "#basic statistics\n",
    "adani_df.describe()"
   ]
  },
  {
   "cell_type": "code",
   "execution_count": 38,
   "metadata": {},
   "outputs": [
    {
     "data": {
      "text/plain": [
       "Open         4.165000e+03\n",
       "High         4.236750e+03\n",
       "Low          3.991100e+03\n",
       "Close        4.105400e+03\n",
       "Adj Close    4.105400e+03\n",
       "Volume       5.208061e+06\n",
       "dtype: float64"
      ]
     },
     "execution_count": 38,
     "metadata": {},
     "output_type": "execute_result"
    }
   ],
   "source": [
    "adani_df.max()"
   ]
  },
  {
   "cell_type": "code",
   "execution_count": 39,
   "metadata": {},
   "outputs": [
    {
     "data": {
      "text/plain": [
       "Open           631.500000\n",
       "High           674.400024\n",
       "Low            631.500000\n",
       "Close          642.900024\n",
       "Adj Close      642.900024\n",
       "Volume       30886.000000\n",
       "dtype: float64"
      ]
     },
     "execution_count": 39,
     "metadata": {},
     "output_type": "execute_result"
    }
   ],
   "source": [
    "adani_df.min()"
   ]
  },
  {
   "cell_type": "code",
   "execution_count": 40,
   "metadata": {},
   "outputs": [
    {
     "data": {
      "image/png": "[encoded data removed]",
      "text/plain": [
       "<Figure size 1000x600 with 1 Axes>"
      ]
     },
     "metadata": {},
     "output_type": "display_data"
    }
   ],
   "source": [
    "# If date is not datetime format then Convert the 'Date' column to datetime type using\n",
    "# adani_df['Date'] = pd.to_datetime(adani_df['Date'])\n",
    "\n",
    "# Set the figure size\n",
    "plt.figure(figsize=(10, 6))\n",
    "# Plot 'Open' price\n",
    "sns.lineplot(x='Date', y='Open', data=adani_df, label='Open')\n",
    "\n",
    "# Plot 'Close' price\n",
    "sns.lineplot(x='Date', y='Close', data=adani_df, label='Close')\n",
    "\n",
    "# Plot 'High' price\n",
    "sns.lineplot(x='Date', y='High', data=adani_df, label='High')\n",
    "\n",
    "# Plot 'Low' price\n",
    "sns.lineplot(x='Date', y='Low', data=adani_df, label='Low')\n",
    "\n",
    "# Set the labels and title\n",
    "plt.xlabel('Date')\n",
    "plt.ylabel('Price')\n",
    "plt.title('Adani Share Data')\n",
    "\n",
    "# Rotate x-axis labels for better readability\n",
    "plt.xticks(rotation=45)\n",
    "\n",
    "# Display the legend\n",
    "plt.legend()\n",
    "\n",
    "# Show the plot\n",
    "plt.show()"
   ]
  },
  {
   "attachments": {},
   "cell_type": "markdown",
   "metadata": {},
   "source": [
    "#### Daily changes & normalization\n",
    "\n",
    "Here in this section, we will do our calculation in a copied dataframe, so that our original dataframe remain intact while doing these calculations for our future references."
   ]
  },
  {
   "cell_type": "code",
   "execution_count": 48,
   "metadata": {},
   "outputs": [
    {
     "data": {
      "text/html": [
       "<div>\n",
       "<style scoped>\n",
       "    .dataframe tbody tr th:only-of-type {\n",
       "        vertical-align: middle;\n",
       "    }\n",
       "\n",
       "    .dataframe tbody tr th {\n",
       "        vertical-align: top;\n",
       "    }\n",
       "\n",
       "    .dataframe thead th {\n",
       "        text-align: right;\n",
       "    }\n",
       "</style>\n",
       "<table border=\"1\" class=\"dataframe\">\n",
       "  <thead>\n",
       "    <tr style=\"text-align: right;\">\n",
       "      <th></th>\n",
       "      <th>Open</th>\n",
       "      <th>High</th>\n",
       "      <th>Low</th>\n",
       "      <th>Close</th>\n",
       "      <th>Adj Close</th>\n",
       "      <th>Volume</th>\n",
       "      <th>Daily Change</th>\n",
       "      <th>% Daily Change</th>\n",
       "    </tr>\n",
       "    <tr>\n",
       "      <th>Date</th>\n",
       "      <th></th>\n",
       "      <th></th>\n",
       "      <th></th>\n",
       "      <th></th>\n",
       "      <th></th>\n",
       "      <th></th>\n",
       "      <th></th>\n",
       "      <th></th>\n",
       "    </tr>\n",
       "  </thead>\n",
       "  <tbody>\n",
       "    <tr>\n",
       "      <th>2022-01-03</th>\n",
       "      <td>1735.000000</td>\n",
       "      <td>1755.0</td>\n",
       "      <td>1710.000000</td>\n",
       "      <td>1731.099976</td>\n",
       "      <td>1731.099976</td>\n",
       "      <td>32602</td>\n",
       "      <td>NaN</td>\n",
       "      <td>NaN</td>\n",
       "    </tr>\n",
       "    <tr>\n",
       "      <th>2022-01-04</th>\n",
       "      <td>1731.099976</td>\n",
       "      <td>1775.0</td>\n",
       "      <td>1700.000000</td>\n",
       "      <td>1754.949951</td>\n",
       "      <td>1754.949951</td>\n",
       "      <td>42498</td>\n",
       "      <td>23.849976</td>\n",
       "      <td>1.377735</td>\n",
       "    </tr>\n",
       "    <tr>\n",
       "      <th>2022-01-05</th>\n",
       "      <td>1706.099976</td>\n",
       "      <td>1780.5</td>\n",
       "      <td>1706.099976</td>\n",
       "      <td>1761.050049</td>\n",
       "      <td>1761.050049</td>\n",
       "      <td>54105</td>\n",
       "      <td>6.100098</td>\n",
       "      <td>0.347594</td>\n",
       "    </tr>\n",
       "    <tr>\n",
       "      <th>2022-01-06</th>\n",
       "      <td>1730.000000</td>\n",
       "      <td>1770.0</td>\n",
       "      <td>1710.000000</td>\n",
       "      <td>1760.050049</td>\n",
       "      <td>1760.050049</td>\n",
       "      <td>51023</td>\n",
       "      <td>-1.000000</td>\n",
       "      <td>-0.056784</td>\n",
       "    </tr>\n",
       "    <tr>\n",
       "      <th>2022-01-07</th>\n",
       "      <td>1740.099976</td>\n",
       "      <td>1780.0</td>\n",
       "      <td>1721.849976</td>\n",
       "      <td>1776.000000</td>\n",
       "      <td>1776.000000</td>\n",
       "      <td>64894</td>\n",
       "      <td>15.949951</td>\n",
       "      <td>0.906221</td>\n",
       "    </tr>\n",
       "  </tbody>\n",
       "</table>\n",
       "</div>"
      ],
      "text/plain": [
       "                   Open    High          Low        Close    Adj Close  \\\n",
       "Date                                                                     \n",
       "2022-01-03  1735.000000  1755.0  1710.000000  1731.099976  1731.099976   \n",
       "2022-01-04  1731.099976  1775.0  1700.000000  1754.949951  1754.949951   \n",
       "2022-01-05  1706.099976  1780.5  1706.099976  1761.050049  1761.050049   \n",
       "2022-01-06  1730.000000  1770.0  1710.000000  1760.050049  1760.050049   \n",
       "2022-01-07  1740.099976  1780.0  1721.849976  1776.000000  1776.000000   \n",
       "\n",
       "            Volume  Daily Change  % Daily Change  \n",
       "Date                                              \n",
       "2022-01-03   32602           NaN             NaN  \n",
       "2022-01-04   42498     23.849976        1.377735  \n",
       "2022-01-05   54105      6.100098        0.347594  \n",
       "2022-01-06   51023     -1.000000       -0.056784  \n",
       "2022-01-07   64894     15.949951        0.906221  "
      ]
     },
     "execution_count": 48,
     "metadata": {},
     "output_type": "execute_result"
    }
   ],
   "source": [
    "# daily change = Open price - Closing price\n",
    "# Calculate daily change\n",
    "adani_df['Daily Change'] = adani_df['Close'].diff()\n",
    "\n",
    "# Calculate percentage daily change\n",
    "adani_df['% Daily Change'] = adani_df['Close'].pct_change() * 100\n",
    "\n",
    "adani_df.head()"
   ]
  },
  {
   "cell_type": "code",
   "execution_count": null,
   "metadata": {},
   "outputs": [],
   "source": [
    "# daily percentage changes\n",
    "dailyperc_change = ((adani_df['Close']-adani_df['Open']) / adani_df['Open'])*100\n",
    "dailyperc_change"
   ]
  },
  {
   "attachments": {},
   "cell_type": "markdown",
   "metadata": {},
   "source": [
    "#### Normalization\n",
    "- Normalization of data in a DataFrame is the process of scaling the values to a specific range or distribution. \n",
    "- It is commonly done to bring all the variables to a similar scale and remove any bias or distortion caused by differences in the magnitude of values.\n",
    "- The use of normalization in a DataFrame has several benefits:\n",
    "\n",
    "    - **Improved Comparability:** By scaling the variables to a common range, normalization allows for a fairer and more meaningful comparison between different variables. It ensures that no single variable dominates the analysis simply due to its larger values.\n",
    "\n",
    "    - **Elimination of Skewness:** Normalization helps in removing the skewness or imbalance in the distribution of data. It makes the data distribution more symmetrical and reduces the impact of outliers.\n",
    "\n",
    "    - **Effective Model Training:** Many machine learning algorithms, such as gradient descent-based methods, perform better when the input features are on a similar scale. Normalizing the data can help in improving the convergence of these algorithms and prevent any one variable from dominating the model training process.\n",
    "\n",
    "    - **Interpretability:** Normalization makes it easier to interpret the impact or importance of each variable. When variables are on the same scale, it becomes simpler to compare their coefficients or weights in a model and understand their relative influence.\n",
    "\n",
    "    - **Data Visualization:** Normalized data can enhance data visualization by preventing one variable from overshadowing others due to its larger magnitude. It allows for a more accurate representation of the relationships and patterns among variables."
   ]
  },
  {
   "cell_type": "code",
   "execution_count": 49,
   "metadata": {},
   "outputs": [
    {
     "name": "stdout",
     "output_type": "stream",
     "text": [
      "                Open      High       Low     Close    Adj Close    Volume  \\\n",
      "Date                                                                        \n",
      "2022-01-03  0.312297  0.303339  0.321020  0.314282  1731.099976  0.000331   \n",
      "2022-01-04  0.311193  0.308953  0.318044  0.321170  1754.949951  0.002243   \n",
      "2022-01-05  0.304118  0.310497  0.319859  0.322931  1761.050049  0.004485   \n",
      "2022-01-06  0.310882  0.307550  0.321020  0.322643  1760.050049  0.003890   \n",
      "2022-01-07  0.313740  0.310357  0.324548  0.327249  1776.000000  0.006569   \n",
      "...              ...       ...       ...       ...          ...       ...   \n",
      "2023-04-24  0.103990  0.091120  0.097899  0.093054   965.099976  0.050103   \n",
      "2023-04-25  0.095514  0.095148  0.099327  0.106874  1012.950012  0.137400   \n",
      "2023-04-26  0.107684  0.097351  0.105221  0.099610   987.799988  0.096181   \n",
      "2023-04-27  0.101415  0.090755  0.102259  0.098022   982.299988  0.039782   \n",
      "2023-04-28  0.102873  0.100215  0.105846  0.111639  1029.449951  0.170608   \n",
      "\n",
      "            Daily Change  % Daily Change  \n",
      "Date                                      \n",
      "2022-01-03           NaN             NaN  \n",
      "2022-01-04     23.849976        1.377735  \n",
      "2022-01-05      6.100098        0.347594  \n",
      "2022-01-06     -1.000000       -0.056784  \n",
      "2022-01-07     15.949951        0.906221  \n",
      "...                  ...             ...  \n",
      "2023-04-24    -29.800049       -2.995281  \n",
      "2023-04-25     47.850037        4.958039  \n",
      "2023-04-26    -25.150024       -2.482850  \n",
      "2023-04-27     -5.500000       -0.556793  \n",
      "2023-04-28     47.149963        4.799956  \n",
      "\n",
      "[327 rows x 8 columns]\n"
     ]
    }
   ],
   "source": [
    "from sklearn.preprocessing import MinMaxScaler\n",
    "\n",
    "# Create a copy of the DataFrame to preserve the original data\n",
    "adani_df_normalized = adani_df.copy()\n",
    "\n",
    "# Select the columns to normalize\n",
    "columns_to_normalize = ['Open', 'High', 'Low', 'Close', 'Volume']\n",
    "\n",
    "# Initialize the MinMaxScaler\n",
    "scaler = MinMaxScaler()\n",
    "\n",
    "# Normalize the selected columns\n",
    "adani_df_normalized[columns_to_normalize] = scaler.fit_transform(adani_df[columns_to_normalize])\n",
    "\n",
    "''' \n",
    "fit_transform() method to perform the Min-Max scaling on the selected columns of adani_df. \n",
    "The fit_transform() method scales the values in each column to the range [0, 1].\n",
    "'''\n",
    "\n",
    "# Display the normalized DataFrame\n",
    "print(adani_df_normalized)\n"
   ]
  },
  {
   "cell_type": "code",
   "execution_count": null,
   "metadata": {},
   "outputs": [],
   "source": []
  },
  {
   "cell_type": "code",
   "execution_count": null,
   "metadata": {},
   "outputs": [],
   "source": []
  },
  {
   "attachments": {},
   "cell_type": "markdown",
   "metadata": {},
   "source": [
    "## Monte Calo simulation"
   ]
  },
  {
   "cell_type": "code",
   "execution_count": null,
   "metadata": {},
   "outputs": [],
   "source": [
    "# Calculate daily returns\n",
    "adani_df['Return'] = data['Adj Close'].pct_change()\n",
    "adani_df = adani_df.dropna()  # Remove rows with missing values\n",
    "adani_df.head()"
   ]
  },
  {
   "cell_type": "code",
   "execution_count": null,
   "metadata": {},
   "outputs": [],
   "source": [
    "# Plot returns\n",
    "plt.figure(figsize=(12, 6))\n",
    "plt.plot(data.index, data['Return'])\n",
    "plt.xlabel('Date')\n",
    "plt.ylabel('Return')\n",
    "plt.title('Daily Returns')\n",
    "plt.show()"
   ]
  },
  {
   "cell_type": "code",
   "execution_count": null,
   "metadata": {},
   "outputs": [],
   "source": [
    "# Calculate risk metrics\n",
    "\n",
    "portfolio_value = 10000  # Initial investment amount\n",
    "\n",
    "# Calculate portfolio returns by multiplying daily returns with the portfolio value\n",
    "data['Portfolio_Return'] = data['Return'] * portfolio_value\n",
    "\n",
    "# Calculate daily portfolio value\n",
    "data['Portfolio_Value'] = data['Portfolio_Return'].cumsum() + portfolio_value\n",
    "\n",
    "# Calculate portfolio statistics\n",
    "mean_return = data['Portfolio_Return'].mean()\n",
    "std_return = data['Portfolio_Return'].std()\n",
    "annualized_return = mean_return * 252  # Assuming 252 trading days in a year\n",
    "annualized_volatility = std_return * np.sqrt(252)\n",
    "\n",
    "# Calculate Value-at-Risk (VaR) at a specified confidence level (e.g., 95%)\n",
    "confidence_level = 0.95\n",
    "var = np.percentile(data['Portfolio_Return'], (1 - confidence_level) * 100)\n",
    "\n",
    "# Calculate Expected Shortfall (ES) at the VaR level\n",
    "es = data[data['Portfolio_Return'] <= var]['Portfolio_Return'].mean()"
   ]
  },
  {
   "cell_type": "code",
   "execution_count": null,
   "metadata": {},
   "outputs": [],
   "source": []
  }
 ],
 "metadata": {
  "kernelspec": {
   "display_name": "Python 3",
   "language": "python",
   "name": "python3"
  },
  "language_info": {
   "codemirror_mode": {
    "name": "ipython",
    "version": 3
   },
   "file_extension": ".py",
   "mimetype": "text/x-python",
   "name": "python",
   "nbconvert_exporter": "python",
   "pygments_lexer": "ipython3",
   "version": "3.11.3"
  },
  "orig_nbformat": 4
 },
 "nbformat": 4,
 "nbformat_minor": 2
}
