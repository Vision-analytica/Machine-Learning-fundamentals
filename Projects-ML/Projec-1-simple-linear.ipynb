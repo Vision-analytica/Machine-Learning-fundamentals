{
 "cells": [
  {
   "cell_type": "code",
   "execution_count": 1,
   "metadata": {},
   "outputs": [],
   "source": [
    "import warnings\n",
    "warnings.filterwarnings('ignore')\n",
    "\n",
    "import numpy as np\n",
    "import pandas as pd\n",
    "\n",
    "import matplotlib.pylab as plt\n",
    "import seaborn as sns\n",
    "\n",
    "plt.style.use('ggplot')\n",
    "\n",
    "np.set_printoptions(precision=4, linewidth=100)"
   ]
  },
  {
   "attachments": {},
   "cell_type": "markdown",
   "metadata": {},
   "source": [
    "## Objective\n",
    "\n",
    "- We want to study the score in a exam on the basis of study time.\n",
    "\n",
    "    $y = m \\cdot x + c$\n",
    "\n",
    "- Our Data points are: ($x_i, y_i$)\n",
    "- The predicted data point for a given $x$ will be $\\hat{y}_i$.\n",
    "\n",
    "- Mean squared error function:\n",
    "\n",
    "    $E = \\frac{1}{n} \\cdot \\sum_{i=0}^n (y_i- \\hat{y}_i)^2 = \\frac{1}{n} \\cdot \\sum_{i=0}^n (y_i- (m\\cdot x_i + b))^2$\n",
    "\n",
    "- We need to calculate $m$ and $b$ by minimizing the function $E$. We can calculate the di=erivative wrt $m$ and $b$ and set it to zero.\n",
    "    \n",
    "    $\\frac{\\partial E}{\\partial m} = - \\frac{2}{n} \\cdot \\sum_{i=0}^n x_i (y_i- (m\\cdot x_i + b))$\n",
    "\n",
    "    $\\frac{\\partial E}{\\partial m} = - \\frac{1}{n} \\cdot \\sum_{i=0}^n (y_i- (m\\cdot x_i + b))$\n",
    "\n",
    "    If we want to improve $m$ and $b$ then all we need to do is  with each itteration we say take the current values of $m$ and assign it to following equations respectively:\n",
    "\n",
    "    New $m$ and new $b$ will be written in terms of current $m$ and current $b$, and the the direction of the steepest ascent $\\partial E/\\partial (a ~{\\rm or}~ m)$ as: \n",
    "    \n",
    "    $m = m -\\alpha \\cdot \\frac{\\partial E}{\\partial m}$ \n",
    "    \n",
    "    $b = m -\\alpha \\cdot \\frac{\\partial E}{\\partial b}$ \n",
    "\n",
    "    where $\\alpha$ is a learning rate.\n"
   ]
  },
  {
   "attachments": {},
   "cell_type": "markdown",
   "metadata": {},
   "source": [
    "Generating a random dataset with a column of 'Study time' and 'Score'."
   ]
  },
  {
   "cell_type": "code",
   "execution_count": 2,
   "metadata": {},
   "outputs": [
    {
     "name": "stdout",
     "output_type": "stream",
     "text": [
      "Study Time: 1.81 hours, Score: 88.54\n",
      "Study Time: 3.83 hours, Score: 106.78\n",
      "Study Time: 3.06 hours, Score: 101.08\n",
      "Study Time: 2.60 hours, Score: 86.02\n",
      "Study Time: 1.05 hours, Score: 79.36\n",
      "Study Time: 1.05 hours, Score: 82.25\n",
      "Study Time: 0.70 hours, Score: 84.42\n",
      "Study Time: 3.53 hours, Score: 102.72\n",
      "Study Time: 2.60 hours, Score: 92.00\n",
      "Study Time: 2.98 hours, Score: 97.27\n"
     ]
    }
   ],
   "source": [
    "# Generating the dataset for a Study time and Score in a exam\n",
    "\n",
    "# Set the seed for reproducibility (optional)\n",
    "np.random.seed(42)\n",
    "\n",
    "# Generate study time (in hours)\n",
    "study_time = np.random.uniform(low=0.5, high=4.0, size=100)\n",
    "\n",
    "# Generate scores\n",
    "score = 70 + 10 * study_time + np.random.normal(loc=0, scale=5, size=100)\n",
    "\n",
    "# Print the first 10 data points\n",
    "for i in range(10):\n",
    "    print(f\"Study Time: {study_time[i]:.2f} hours, Score: {score[i]:.2f}\")\n"
   ]
  },
  {
   "cell_type": "code",
   "execution_count": 6,
   "metadata": {},
   "outputs": [
    {
     "name": "stdout",
     "output_type": "stream",
     "text": [
      "   studytime       Score\n",
      "0   1.810890   88.544140\n",
      "1   3.827500  106.779964\n",
      "2   3.061979  101.078592\n",
      "3   2.595305   86.015202\n",
      "4   1.046065   79.362293\n"
     ]
    }
   ],
   "source": [
    "# Create a DataFrame from the generated data\n",
    "df = pd.DataFrame({'studytime': study_time, 'Score': score})# study time in hours\n",
    "\n",
    "# Save the DataFrame to a CSV file\n",
    "df.to_csv('Study-dataset.csv', index=False)\n",
    "\n",
    "# Load the CSV file into a DataFrame\n",
    "data_df = pd.read_csv('Study-dataset.csv')\n",
    "\n",
    "# Display the loaded DataFrame\n",
    "print(data_df.head())\n"
   ]
  },
  {
   "cell_type": "code",
   "execution_count": 8,
   "metadata": {},
   "outputs": [
    {
     "data": {
      "image/png": "[encoded data removed]",
      "text/plain": [
       "<Figure size 640x480 with 1 Axes>"
      ]
     },
     "metadata": {},
     "output_type": "display_data"
    }
   ],
   "source": [
    "plt.scatter(data_df.studytime, data_df.Score )\n",
    "plt.show()"
   ]
  },
  {
   "cell_type": "code",
   "execution_count": null,
   "metadata": {},
   "outputs": [],
   "source": [
    "def loss_function(m,b, points):\n",
    "    "
   ]
  }
 ],
 "metadata": {
  "kernelspec": {
   "display_name": "Python 3",
   "language": "python",
   "name": "python3"
  },
  "language_info": {
   "codemirror_mode": {
    "name": "ipython",
    "version": 3
   },
   "file_extension": ".py",
   "mimetype": "text/x-python",
   "name": "python",
   "nbconvert_exporter": "python",
   "pygments_lexer": "ipython3",
   "version": "3.11.3"
  },
  "orig_nbformat": 4
 },
 "nbformat": 4,
 "nbformat_minor": 2
}
