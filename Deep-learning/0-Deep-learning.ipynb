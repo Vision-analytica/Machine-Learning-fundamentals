{
 "cells": [
  {
   "attachments": {},
   "cell_type": "markdown",
   "metadata": {},
   "source": [
    "# Deep Learning"
   ]
  },
  {
   "attachments": {},
   "cell_type": "markdown",
   "metadata": {},
   "source": [
    "## Definition\n",
    "Deep learning is a subfield of machine learning that involves the use of artificial neural networks with multiple layers to model and solve complex problems. \n",
    "\n",
    "## Classification\n",
    "\n",
    "Some common classifications of deep learning include:\n",
    "\n",
    "1. **Feedforward neural networks:** These are neural networks that have a series of interconnected layers, where the output of each layer serves as the input for the next layer.\n",
    "\n",
    "2. **Convolutional neural networks (CNNs):** These are neural networks that are particularly suited to image and video analysis tasks. They use a type of neural network layer called a convolutional layer that can extract features from images or video frames.\n",
    "\n",
    "3. **Recurrent neural networks (RNNs):** These are neural networks that are well-suited to sequence analysis tasks, such as natural language processing or speech recognition. They use a type of neural network layer called a recurrent layer that can maintain an internal state and process inputs one at a time.\n",
    "\n",
    "4. **Generative adversarial networks (GANs):** These are neural networks that can generate new data that is similar to a training set. GANs consist of two neural networks: a generator network that creates new data, and a discriminator network that tries to distinguish between the generated data and real data.\n",
    "\n",
    "5. **Autoencoders:** These are neural networks that are used for unsupervised learning tasks. They are designed to encode an input into a lower-dimensional representation and then decode it back into the original input. Autoencoders can be used for tasks such as image compression or anomaly detection."
   ]
  },
  {
   "attachments": {},
   "cell_type": "markdown",
   "metadata": {},
   "source": [
    "## Deep Learning framework\n",
    "\n",
    "There are many popular frameworks for deep learning, some of which include:\n",
    "\n",
    "- **TensorFlow:** Developed by Google, it is an open-source software library for dataflow and differentiable programming across a range of tasks.\n",
    "\n",
    "- **PyTorch:** Developed by Facebook, it is an open-source machine learning framework used for applications such as computer vision and natural language processing.\n",
    "\n",
    "- **Keras:** An open-source neural network library written in Python, it runs on top of other deep learning frameworks such as TensorFlow and Theano.\n",
    "\n",
    "- **Caffe:** Developed by Berkeley Vision and Learning Center, it is a deep learning framework that specializes in image recognition.\n",
    "\n",
    "- **Theano:** Another popular open-source numerical computation library, it is used for deep learning and other mathematical computations.\n",
    "\n",
    "- **MXNet:** An open-source deep learning framework that is highly scalable and supports a range of programming languages including Python, R, and Julia.\n",
    "\n",
    "- **Chainer:** A Python-based, open-source deep learning framework that is highly flexible and allows for dynamic computation graphs.\n",
    "\n",
    "These frameworks provide a range of features and tools for developing and training deep neural networks, making it easier for developers and researchers to experiment with different architectures and optimize their models for specific tasks."
   ]
  },
  {
   "cell_type": "markdown",
   "metadata": {},
   "source": []
  },
  {
   "cell_type": "markdown",
   "metadata": {},
   "source": []
  },
  {
   "cell_type": "markdown",
   "metadata": {},
   "source": []
  },
  {
   "cell_type": "markdown",
   "metadata": {},
   "source": []
  },
  {
   "cell_type": "code",
   "execution_count": null,
   "metadata": {},
   "outputs": [],
   "source": []
  }
 ],
 "metadata": {
  "language_info": {
   "name": "python"
  },
  "orig_nbformat": 4
 },
 "nbformat": 4,
 "nbformat_minor": 2
}
