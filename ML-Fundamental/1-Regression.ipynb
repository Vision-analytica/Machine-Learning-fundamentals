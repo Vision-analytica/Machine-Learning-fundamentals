{
 "cells": [
  {
   "attachments": {},
   "cell_type": "markdown",
   "metadata": {},
   "source": [
    "# Regression algorithms\n",
    "\n",
    "Regression analysis is a statistical method to model the relationship between a dependent (target) and independent (predictor) variables with one or more independent variables. More specifically, Regression analysis helps us to understand how the value of the dependent variable is changing corresponding to an independent variable when other independent variables are held fixed.\n",
    "\n",
    "The goal of regression is to find a mathematical relationship between the input features and the target variable that can be used to make accurate predictions on new, unseen data."
   ]
  },
  {
   "attachments": {},
   "cell_type": "markdown",
   "metadata": {},
   "source": [
    "Regression algorithms are a type of machine learning algorithm used to predict numerical values based on input data. Regression algorithms attempt to find a relationship between the input variables and the output variable by fitting a mathematical model to the data. There are many different types of regression algorithms, including:\n",
    "\n",
    "Linear regression: This algorithm attempts to fit a straight line to the data that best represents the relationship between the input variables and the output variable.\n",
    "\n",
    "Logistic regression: This algorithm is used for binary classification problems, where the output variable is either 0 or 1. It attempts to find the relationship between the input variables and the probability of the output being 1.\n",
    "\n",
    "Polynomial regression: This algorithm is used when the relationship between the input variables and the output variable is not linear, but can be represented by a polynomial function.\n",
    "\n",
    "Ridge regression: This algorithm is used to address the problem of overfitting in linear regression by adding a penalty term to the cost function.\n",
    "\n",
    "Lasso regression: This algorithm is also used to address the problem of overfitting in linear regression, but it uses a different penalty term that encourages sparsity in the coefficients.\n",
    "\n",
    "Elastic Net regression: This algorithm is a combination of ridge and lasso regression, and is used when there are many input variables and some of them are highly correlated.\n",
    "\n",
    "There are many other regression algorithms as well, and the choice of algorithm depends on the specific problem and the characteristics of the data."
   ]
  },
  {
   "cell_type": "markdown",
   "metadata": {},
   "source": []
  },
  {
   "cell_type": "code",
   "execution_count": null,
   "metadata": {},
   "outputs": [],
   "source": []
  }
 ],
 "metadata": {
  "language_info": {
   "name": "python"
  },
  "orig_nbformat": 4
 },
 "nbformat": 4,
 "nbformat_minor": 2
}
