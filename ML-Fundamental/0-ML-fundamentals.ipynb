{
 "cells": [
  {
   "attachments": {},
   "cell_type": "markdown",
   "metadata": {},
   "source": [
    "# Machine Learning \n",
    "\n",
    "## Python and data science\n",
    "\n",
    "<img src=\"https://user-images.githubusercontent.com/15100077/209703557-f22b143b-8b42-4c5d-b8dd-f180522f33d8.png\"  width=\"700\" height=\"600\" />\n",
    "\n",
    "* Data science projects need extraction of data from various sources, data cleaning, data imputation beside model building, validation, and making predictions. \n",
    "* Data analysis is mostly an iterative process, where lots of exploration needs to be done in an ad-hoc manner. \n",
    "* Python being an interpreted language provides an interactive interface for accomplishing this. Python is an interpreted, high-level, general-purpose programming language. \n",
    "* Python’s strong community, continuously evolves its data science libraries and keeps it cutting edge.\n",
    "* It has libraries for **linear algebra computations**, **statistical analysis**, **machine learning**, **visualization**, **optimization**, **stochastic models**, etc.\n",
    "\n",
    "<img src=\"python-libraries.png\" width=\"700\" height=\"450\" />\n",
    "\n",
    "(**Reference for the figure:** Machine learning using Python, Manaranjan Pradhan & U Dinesh Kumar)\n",
    "\n",
    "### Core Python Libraries for Data Analysis\n",
    "\n",
    "| Areas of Application | Library | Description | \n",
    "|----------------------|---------|-------------|\n",
    "| Mathematical Computations | [NumPy](www.numpy.org)| NumPy is the fundamental package for scientific computing involving large arrays and matrices. It provides useful mathematical computation capabilities. |\n",
    "| Data Structure Operations (Dataframes) | [Pandas](https://pandas.pydata.org/) | Pandas provides high-performance, easy-to-use data structures called DataFrame for exploration and analysis. DataFrames are the key data structures that feed into most of the statistical and machine learning models. |\n",
    "| Visualization | [Matplotlib](https://matplotlib.org/)| Matplotlib is a comprehensive library for creating static, animated, and interactive visualizations in Python|\n",
    "| More elegant Visualization | [Seaborn](https://seaborn.pydata.org/) | Seaborn is a Python visualization library based on matplotlib. It provides a high-level interface for drawing attractive statistical graphics. |\n",
    "| Machine Learning Algorithm | [Scikit-learn (aka sklearn)](https://scikit-learn.org/stable/) | Scikit-learn provides a range of supervised and unsupervised learning algorithms. |\n",
    "| Statistical Computations | [SciPy](www.scipy.org) | SciPy contains modules for optimization and computation. It provides libraries for several statistical distributions and statistical tests. |\n",
    "| Statistical Modelling | [StatsModels](www.statsmodels.org/stable/index.html) | StatsModels is a Python module that provides classes and functions for various statistical analyses. | \n",
    "| IDE (Integrated Development Environment) | [Jupyter Notebook](jupyter.org) | The Jupyter Notebook is an opensource web application that allows you to create and share documents that contain live code, equations, visualizations, and explanatory text.|"
   ]
  },
  {
   "attachments": {},
   "cell_type": "markdown",
   "metadata": {},
   "source": [
    "# Introduction to Machine learning\n",
    "Analytics is a collection of techniques and tools used for creating value from data. Techniques include concepts such as artificial intelligence (AI), machine learning (ML), and deep learning (DL) algorithms.\n",
    "\n",
    "- **Artificial Intelligence (AI):** Algorithms and systems that exhibit human-like intelligence.\n",
    "- **Machine Learning (ML):** Subset of AI that can learn to perform a task with extracted data and/or\n",
    "Models\n",
    "- **Deep Learning (DL):** Subset of machine learning that imitate the functioning of human brain to solve problems.\n",
    "\n",
    "<img src=\"AI-vs-ML-vs-Deep-Learning.png\" width=\"800\" height=\"350\" />\n",
    "\n",
    "\n",
    "Machine learning is a set of algorithms that have the capability to learn to perform tasks such as prediction and classification effectively using data."
   ]
  },
  {
   "attachments": {},
   "cell_type": "markdown",
   "metadata": {},
   "source": [
    "## Categories of ML algorithms\n",
    "\n",
    "There are three main categories of machine learning algorithms:\n",
    "\n",
    "| Algorithms | Definition | Goal | Example |\n",
    "|------------|------------|------|---------|\n",
    "| Supervised Learning | In supervised learning, the machine is trained on a labeled dataset, where the target variable (or output) is known for each observation in the dataset. | The goal of supervised learning is to learn a mapping from the input variables (or features) to the output variable, so that the machine can make accurate predictions on new, unseen data. | linear regression, logistic regression, decision trees, and neural networks |\n",
    "| Unsupervised Learning | In unsupervised learning, the machine is trained on an unlabeled dataset, where the target variable (or output) is not known for each observation in the dataset. | The goal of unsupervised learning is to learn patterns in the data, such as similarities or clusters, without a specific goal or target variable in mind. | k-means clustering, hierarchical clustering, principal component analysis (PCA), and t-distributed stochastic neighbor embedding (t-SNE)| \n",
    "| Reinforcement Learning | In reinforcement learning, the machine learns by interacting with an environment, receiving feedback in the form of rewards or penalties for each action taken. | The goal of reinforcement learning is to learn an optimal policy, or set of actions, that maximize the cumulative reward over time | Q-learning, SARSA, and deep reinforcement learning  |\n",
    "\n",
    "It's worth noting that there are also hybrid approaches that combine elements of supervised and unsupervised learning, such as semi-supervised learning and transfer learning. Additionally, there are other subfields of machine learning, such as deep learning, which focuses on neural networks with many layers, and natural language processing (NLP), which focuses on processing and understanding human language.\n",
    "\n",
    "1. **Supervised Learning Algorithms:** These algorithms require the knowledge of both the outcome variable (dependent variable) and the features (independent variable or input variables). The algorithm learns (i.e., estimates the values of the model parameters or feature weights) by defining a loss function which is usually a function of the difference between the predicted value and actual value of the outcome variable\n",
    "2.\t**Unsupervised Learning Algorithms:** These algorithms are set of algorithms, which do not have the knowledge of the outcome variable in the dataset. The algorithms must find the possible values of the outcome variable.\n",
    "3.\t**Reinforcement Learning Algorithms:** In many datasets, there could be uncertainty around\n",
    "both input as well as the output variables. For example, consider the case of spell check in various text editors. If a person types “buutiful” in Microsoft Word, the spell check in Microsoft Word will immediately identify this as a spelling mistake and give options such as “beautiful”, “bountiful”, and dutiful”. Here the prediction is not one single value, but a set of values.\n",
    "4.\t**Evolutionary Learning Algorithms:** Evolutional algorithms are algorithms that imitate natural evolution to solve a problem. Techniques such as genetic algorithm and ant colony optimization fall under the category of evolutionary learning algorithms.\n",
    "\n",
    "<img src=\"category1.png\"  width=\"750\" height=\"400\" />"
   ]
  },
  {
   "attachments": {},
   "cell_type": "markdown",
   "metadata": {},
   "source": [
    "## A typical ML algorithm uses the following steps\n",
    "\n",
    "1. Identify the problem or opportunity for value creation.\n",
    "2. Identify sources of data (primary as well secondary data sources) and create a data lake\n",
    "(integrated data set from different sources).\n",
    "3. Pre-process the data for issues such as missing and incorrect data. Generate derived variables\n",
    "(feature engineering) and transform the data if necessary. Prepare the data for ML model building.\n",
    "4. Divide the datasets into subsets of training and validation datasets.\n",
    "5. Build ML models and identify the best model(s) using model performance in validation data.\n",
    "6. Implement Solution/Decision/Develop Product."
   ]
  },
  {
   "attachments": {},
   "cell_type": "markdown",
   "metadata": {},
   "source": [
    "## Framework for develping ML models\n",
    "\n",
    "The framework for ML algorithm development can be divided into five integrated stages:\n",
    "- **Problem and opportunity identification:** A good ML project starts with the ability of the organization to define the problem clearly. Domain knowledge is very important at this stage of the project. Problem definition or opportunity identification will be a major challenge for many companies who do not have capabilities to ask right questions.\n",
    "- **Data Collection & Feature Extraction:** Once the problem is defined clearly, the project team should identify and collect the relevant data. This is an iternative processess since 'relevant data' may not be known in advance in many analytics projects. The existence of ERP systems will be very useful at this stage. In addition to the data available within the organization, they have to collect data from external sources. The data needs to be integrated to create a data lake. Quality of the data is major impediment for successful ML model development. \n",
    "- **data pre-processing:** Anecdotal evidence suggests that data preparation and data processing from a significant proportion of any analytics project. This would include data cleaning and data imputation and the creation of additional variables such as interaction variables and dummy variables. \n",
    "- **ML model building:** ML model building is an iterative process that aims to find the best model. Several analytical tools and solution procedures will be used to find the best ML model. To avoid overfitting, it is important to create sevral training and validation datasets.\n",
    "- **Communication and development of the data analysis:** The primary objective of machine learning is to come up with actionable items that can be deployed. The communication of the ML algorithm output to the top managment and clients plays a crucial role. Innovative data visualization techniques may be used in this stage. Development of the model may involve developing software solutions and products, such as recommender engine."
   ]
  },
  {
   "attachments": {},
   "cell_type": "markdown",
   "metadata": {},
   "source": [
    "## Supervised learning\n",
    "\n"
   ]
  },
  {
   "cell_type": "markdown",
   "metadata": {},
   "source": []
  },
  {
   "cell_type": "markdown",
   "metadata": {},
   "source": []
  },
  {
   "attachments": {},
   "cell_type": "markdown",
   "metadata": {},
   "source": [
    "## Top  tools for ML model training\n",
    "\n",
    "In machine learning, there is no one tool that can fix all problems because of vast variations in real-world problems. There are few model training tools that can fit into the requirements of the problem are:\n",
    "\n",
    "1. [TensorFlow](https://github.com/tensorflow)\n",
    "2. PyTorch\n",
    "3. PyTorch Lightning\n",
    "4. Scikit-learn\n",
    "5. Catalyst"
   ]
  }
 ],
 "metadata": {
  "kernelspec": {
   "display_name": "Python 3",
   "language": "python",
   "name": "python3"
  },
  "language_info": {
   "name": "python",
   "version": "3.11.0"
  },
  "orig_nbformat": 4,
  "vscode": {
   "interpreter": {
    "hash": "1a1af0ee75eeea9e2e1ee996c87e7a2b11a0bebd85af04bb136d915cefc0abce"
   }
  }
 },
 "nbformat": 4,
 "nbformat_minor": 2
}
