{
 "cells": [
  {
   "attachments": {},
   "cell_type": "markdown",
   "metadata": {},
   "source": [
    "# Inferential Statistics\n",
    "\n",
    "- Descriptive statistics is the branch of statistics that deals with the collection, analysis, and interpretation of data from a sample or population. It involves summarizing and describing the main features of the data, such as measures of central tendency (e.g., mean, median, mode) and measures of dispersion (e.g., range, variance, standard deviation). Descriptive statistics aims to provide a clear and concise summary of the data that can be easily understood and communicated to others.\n",
    "\n",
    "- Inferential statistics, on the other hand, is the branch of statistics that deals with drawing conclusions or making predictions about a larger population based on a sample of data. It involves using probability theory to estimate population parameters (e.g., mean, proportion) from sample statistics (e.g., sample mean, sample proportion) and testing hypotheses about the relationship between variables. Inferential statistics aims to make generalizations about the population based on the information obtained from the sample.`\n",
    "\n",
    "### Main uses of the Inferential statistics\n",
    "\n",
    "Inferential statistics is used to make generalizations and predictions about populations based on sample data. Some of the main uses of inferential statistics are:\n",
    "\n",
    "1. **Estimation:** Inferential statistics can be used to estimate population parameters (such as the mean or proportion) based on sample data.\n",
    "2. **Hypothesis testing:** Inferential statistics can be used to test hypotheses about population parameters using sample data.\n",
    "3. **Prediction:** Inferential statistics can be used to make predictions about future observations or outcomes based on past data.\n",
    "4. **Generalization:** Inferential statistics can be used to generalize findings from a sample to the larger population.\n",
    "5. **Decision-making:** Inferential statistics can be used to support decision-making in various fields, such as business, medicine, and social sciences.\n",
    "\n",
    "Overall, inferential statistics allows researchers to draw conclusions about populations based on sample data, which can be used to make informed decisions and predictions.\n",
    "\n",
    "### Descriptive versus inferential statistics\n",
    "\n",
    "| Descriptive Statistics\t| Inferential Statistics |\n",
    "|---------------------------|------------------------|\n",
    "| Describes sample data\t| Makes inferences about population based on sample data |\n",
    "| Provides summary measures such as mean, median, mode, standard deviation, etc.\t| Uses sample statistics to estimate population parameters |\n",
    "| Helps in data exploration and visualization\t| Tests hypotheses about population parameters |\n",
    "| Useful in describing and summarizing data\t| Helps in making predictions about future observations or outcomes |\n",
    "| Examples: frequency distributions, measures of central tendency, measures of dispersion, etc.\t| Examples: t-tests, ANOVA, regression analysis, etc. |\n",
    "\n",
    "### Sampling error in inferential statistics\n",
    "\n",
    "- Since the size of a sample is always smaller than the size of the population, some of the population isn’t captured by sample data. This creates sampling error, which is the difference between the true population values (called parameters) and the measured sample values (called statistics).\n",
    "\n",
    "- Sampling error arises any time you use a sample, even if your sample is random and unbiased. For this reason, there is always some uncertainty in inferential statistics. However, using probability sampling methods reduces this uncertainty.\n",
    "\n",
    "### Estimating population parameters from sample statistics\n",
    "\n",
    "The characteristics of samples and populations are described by numbers called statistics and parameters:\n",
    "\n",
    "- A statistic is a measure that describes the sample (e.g., sample mean).\n",
    "- A parameter is a measure that describes the whole population (e.g., population mean).\n",
    "\n",
    "**Sampling error** is the difference between a parameter and a corresponding statistic. Since in most cases you don’t know the real population parameter, you can use inferential statistics to estimate these parameters in a way that takes sampling error into account.\n",
    "\n",
    "**Types of estimates:** There are two important types of estimates you can make about the population: \n",
    "\n",
    "1. **Point estimates:** A point estimate is a single value estimate of a parameter. For instance, a sample mean is a point estimate of a population mean.\n",
    "2. **Interval estimates:** An interval estimate gives you a range of values where the parameter is expected to lie. A confidence interval is the most common type of interval estimate.\n",
    "\n",
    "Both types of estimates are important for gathering a clear idea of where a parameter is likely to lie.\n",
    "\n",
    "### Steps to follow to eastimate the population parameters from sample statistics\n",
    "\n",
    "The following steps outline the process of estimating population parameters from sample statistics:\n",
    "\n",
    "- **Define the population of interest:** Clearly define the population from which the sample is drawn.\n",
    "- **Determine the sampling technique:** Determine the sampling technique to be used to ensure that the sample is representative of the population.\n",
    "- **Collect the sample:** Collect a sample of appropriate size from the population using the chosen sampling technique.\n",
    "- **Calculate sample statistics:** Calculate the appropriate sample statistics (e.g., mean, standard deviation) based on the collected sample.\n",
    "- **Make inferences:** Use the sample statistics to make inferences about the population parameters (e.g., mean, standard deviation).\n",
    "- **Estimate population parameters:** Use the sample statistics to estimate the population parameters, including point estimates and confidence intervals.\n",
    "- **Assess the reliability of the estimate:** Determine the reliability of the estimate using statistical tests such as hypothesis testing and confidence intervals.\n",
    "\n",
    "Overall, estimating population parameters from sample statistics involves collecting a representative sample, calculating sample statistics, and using these statistics to make inferences about the population parameters. The process requires careful consideration of the sampling technique, sample size, and reliability of the estimates."
   ]
  },
  {
   "attachments": {},
   "cell_type": "markdown",
   "metadata": {},
   "source": [
    "### Hypothesis testing\n",
    "\n",
    "- Hypothesis testing is a formal process of statistical analysis using inferential statistics. The goal of hypothesis testing is to compare populations or assess relationships between variables using samples. \n",
    "\n",
    "- Hypotheses, or predictions, are tested using statistical tests. Statistical tests also estimate sampling errors so that valid inferences can be made.\n",
    "\n",
    "- Statistical tests can be:\n",
    "\n",
    "    - **Parametric**: parametric tests are considered more statistically powerful because they are more likely to detect an effect if one exists. Parametric tests make assumptions that include the following:\n",
    "        - the population that the sample comes from follows a normal distribution of scores\n",
    "        - the sample size is large enough to represent the population\n",
    "        - the variances, a measure of variability, of each group being compared are similar\n",
    "\n",
    "    - **Non-parametric**: When your data violates any of these assumptions, non-parametric tests are more suitable. Non-parametric tests are called “distribution-free tests” because they don’t assume anything about the distribution of the population data.\n",
    "\n",
    "- Statistical tests come in three forms: \n",
    "    1. tests of comparison\n",
    "    2. correlation\n",
    "    3. regression.\n",
    "\n",
    "#### 1. Comparison tests\n",
    "\n",
    "\n",
    "\n",
    "#### 2. Correlation tests\n",
    "\n",
    "\n",
    "#### 3. Regression tests\n",
    "\n",
    "\n",
    "\n",
    "\n",
    "fhjkdk"
   ]
  },
  {
   "cell_type": "code",
   "execution_count": 3,
   "metadata": {},
   "outputs": [
    {
     "data": {
      "text/plain": [
       "'/Users/arunp77/Documents/Data-science/Machine-Learning'"
      ]
     },
     "execution_count": 3,
     "metadata": {},
     "output_type": "execute_result"
    }
   ],
   "source": [
    "%pwd"
   ]
  },
  {
   "cell_type": "code",
   "execution_count": null,
   "metadata": {},
   "outputs": [],
   "source": []
  }
 ],
 "metadata": {
  "kernelspec": {
   "display_name": "Python 3",
   "language": "python",
   "name": "python3"
  },
  "language_info": {
   "codemirror_mode": {
    "name": "ipython",
    "version": 3
   },
   "file_extension": ".py",
   "mimetype": "text/x-python",
   "name": "python",
   "nbconvert_exporter": "python",
   "pygments_lexer": "ipython3",
   "version": "3.11.0"
  },
  "orig_nbformat": 4
 },
 "nbformat": 4,
 "nbformat_minor": 2
}
