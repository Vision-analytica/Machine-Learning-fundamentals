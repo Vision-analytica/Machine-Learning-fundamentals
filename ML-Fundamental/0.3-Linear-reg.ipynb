{
 "cells": [
  {
   "attachments": {},
   "cell_type": "markdown",
   "metadata": {},
   "source": [
    "# Introduction to Linear Regression in Machine Learning\n",
    "\n",
    "Linear regression is a popular and widely used algorithm in machine learning for predicting continuous numeric values. It models the relationship between independent variables (input features) and a dependent variable (target variable) by fitting a linear equation to the observed data. In this section, we will provide a brief overview of linear regression, including the mathematical explanation and figures to aid understanding.\n",
    "\n",
    "## Mathematical Explanation:\n",
    "The linear regression algorithm aims to find the best-fit line that represents the relationship between the input features ($x$) and the target variable ($y$). The equation for a simple linear regression can be expressed as: \n",
    "\n",
    "$y=mx+b$\n",
    "\n",
    "where\n",
    "\n",
    "- $y$ represents the target variable or the dependent variable we want to predict.\n",
    "- $x$ represents the input feature or the independent variable.\n",
    "- $m$ represents the slope of the line, which represents the rate of change of $y$ with respect to $x$.\n",
    "- $b$ represents the $y$-intercept, which is the value of $y$ when $x$ is equal to $0$.\n",
    "\n",
    "<img src=\"ML-image/Linear-reg0.png\" width=\"350\" height=\"300\" />"
   ]
  },
  {
   "attachments": {},
   "cell_type": "markdown",
   "metadata": {},
   "source": [
    "### Relationship of regression lines\n",
    "\n",
    "- A linear line showing the relationship between the dependent and independent variables is called a regression line. \n",
    "- A regression line can show two types of relationship:\n",
    "\n",
    "1. **Positive Linear Relationship:** If the dependent variable increases on the Y-axis and independent variable increases on X-axis, then such a relationship is termed as a Positive linear relationship.\n",
    "\n",
    "<img src=\"ML-image/pos-lin-reg.png\" width=\"300\" height=\"250\" />\n",
    "\n",
    "1. **Negative Linear Relationship:** If the dependent variable decreases on the Y-axis and independent variable increases on the X-axis, then such a relationship is called a negative linear relationship.\n",
    "\n",
    "<img src=\"ML-image/neg-lin-reg.png\" width=\"300\" height=\"250\" />"
   ]
  },
  {
   "attachments": {},
   "cell_type": "markdown",
   "metadata": {},
   "source": [
    "## Types of Linear Regression\n",
    "\n",
    "Linear regression can be further divided into two types of the algorithm:\n",
    "\n",
    "1. **Simple Linear Regression:** If a single independent variable is used to predict the value of a numerical dependent variable, then such a Linear Regression algorithm is called Simple Linear Regression.\n",
    "2. **Multiple Linear regression:** If more than one independent variable is used to predict the value of a numerical dependent variable, then such a Linear Regression algorithm is called Multiple Linear Regression."
   ]
  },
  {
   "attachments": {},
   "cell_type": "markdown",
   "metadata": {},
   "source": []
  },
  {
   "attachments": {},
   "cell_type": "markdown",
   "metadata": {},
   "source": []
  },
  {
   "cell_type": "code",
   "execution_count": null,
   "metadata": {},
   "outputs": [],
   "source": []
  }
 ],
 "metadata": {
  "language_info": {
   "name": "python"
  },
  "orig_nbformat": 4
 },
 "nbformat": 4,
 "nbformat_minor": 2
}
